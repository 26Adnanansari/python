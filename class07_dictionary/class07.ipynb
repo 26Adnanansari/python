{
 "cells": [
  {
   "cell_type": "code",
   "execution_count": 2,
   "metadata": {},
   "outputs": [],
   "source": [
    "# List (an example of list)\n",
    "data : list[str] = [\"DJ Collage\", \"Adnan Ansari\",\"M.Shafiq\",\"Bcs\"]"
   ]
  },
  {
   "cell_type": "markdown",
   "metadata": {},
   "source": [
    "## List \n",
    "if we want the values by index number then there is no problem but if you want as name , Father name, collage , field. then we should use Dict (dictionary).  "
   ]
  },
  {
   "cell_type": "markdown",
   "metadata": {},
   "source": [
    "# Dict (dictionary)\n",
    "  type Dict this is the JS object, in which use key value pairs like JSON, To remember it is like a list as we read but it is more powerful feather then list, Dict we will discover it as well as we use it"
   ]
  },
  {
   "cell_type": "code",
   "execution_count": 4,
   "metadata": {},
   "outputs": [
    {
     "name": "stdout",
     "output_type": "stream",
     "text": [
      "{'Collage': 'DJ Collage', 'fname': 'M.Shaifque', 'name': 'Adnan'}\n"
     ]
    }
   ],
   "source": [
    "from typing import Dict, Union\n",
    "import pprint\n",
    "data  : Dict[str,str] = {\n",
    "                         \"name\":\"Adnan\",\n",
    "                         \"fname\":\"M.Shaifque\",\n",
    "                         \"Collage\":\"DJ Collage\",   \n",
    "                        }\n",
    "pprint.pprint(data)"
   ]
  },
  {
   "cell_type": "markdown",
   "metadata": {},
   "source": [
    "Here we can track values as index with some beautiful changes,\n",
    "* like data[name]\n",
    "\"\"\"Here we are creating our custom type that key may be a integer(number) or String\n",
    "Value may be String,integer, list(array), dictionary,tuple or set\"\"\""
   ]
  },
  {
   "cell_type": "code",
   "execution_count": 29,
   "metadata": {},
   "outputs": [
    {
     "name": "stdout",
     "output_type": "stream",
     "text": [
      "{'age': '5 years',\n",
      " 'class': 'perp one',\n",
      " 'fname': 'Adnan Ansari',\n",
      " 'name': 'Lubna'}\n",
      "Lubna\n",
      "Adnan Ansari\n",
      "perp one\n",
      "5 years\n"
     ]
    }
   ],
   "source": [
    "from typing import Dict, Union\n",
    "import pprint\n",
    "\n",
    "key = Union[int,str]\n",
    "value = Union[str,int,list,dict,tuple,set]\n",
    "\n",
    "data1 : Dict [key,value] = {\n",
    "                          \"name\" : \"Lubna\",\n",
    "                          \"fname\": \"Adnan Ansari\",\n",
    "                          \"class\": \"perp one\",\n",
    "                          \"age\": \"5 years\",\n",
    "                          } \n",
    "pprint.pprint(data1)\n",
    "#By like indexing but bot as number o 1 2  here you are watching we are addressing by key\n",
    "print(data1[\"name\"]) \n",
    "print(data1[\"fname\"]) \n",
    "print(data1[\"class\"])\n",
    "print(data1[\"age\"])\n"
   ]
  },
  {
   "cell_type": "markdown",
   "metadata": {},
   "source": [
    "    Syntax Errors:\n",
    "    Beginners often mix up symbols like : and = in Python syntax. Remember, : is used in function definitions, conditionals, loops, and dictionaries. = is used for variable assignment and keyword arguments.\n",
    "\n",
    "    Key-Value Pairs in Dictionaries:\n",
    "    In dictionaries, keys should be single-word identifiers, and values can be of any data type as defined.\n",
    "\n",
    "    Hashable Errors:\n",
    "    Using non-hashable data types (like lists) as dictionary keys can result in hashable errors. Keys in dictionaries should be hashable (e.g., strings, tuples) to avoid such errors."
   ]
  },
  {
   "cell_type": "code",
   "execution_count": 34,
   "metadata": {},
   "outputs": [
    {
     "name": "stdout",
     "output_type": "stream",
     "text": [
      "{'age': '5 years',\n",
      " 'class': 'perp one',\n",
      " 'fname': 'Adnan Ansari',\n",
      " 'name': 'Lubna Ansari'}\n"
     ]
    }
   ],
   "source": [
    "from typing import Dict, Union\n",
    "import pprint\n",
    "\n",
    "key = Union[int,str]\n",
    "value = Union[str,int,list,dict,tuple,set]\n",
    "\n",
    "data1 : Dict [key,value] = {\n",
    "                          \"name\" : \"Lubna\",\n",
    "                          \"fname\": \"Adnan Ansari\",\n",
    "                          \"class\": \"perp one\",\n",
    "                          \"age\": \"5 years\",\n",
    "                          } \n",
    "\n",
    "# updating values \n",
    "data1['name'] = \"Lubna Ansari\"\n",
    "pprint.pprint(data1)\n"
   ]
  },
  {
   "cell_type": "markdown",
   "metadata": {},
   "source": [
    "# Use Methods of Dict \n"
   ]
  },
  {
   "cell_type": "code",
   "execution_count": 35,
   "metadata": {},
   "outputs": [
    {
     "data": {
      "text/plain": [
       "['clear',\n",
       " 'copy',\n",
       " 'fromkeys',\n",
       " 'get',\n",
       " 'items',\n",
       " 'keys',\n",
       " 'pop',\n",
       " 'popitem',\n",
       " 'setdefault',\n",
       " 'update',\n",
       " 'values']"
      ]
     },
     "execution_count": 35,
     "metadata": {},
     "output_type": "execute_result"
    }
   ],
   "source": [
    "[i for i in dir(data1) if \"__\" not in i ]"
   ]
  },
  {
   "cell_type": "markdown",
   "metadata": {},
   "source": [
    "### .get() method of Dict[]\n",
    ".get method is use to find the value of Key if available or not available give custom error\n",
    "syntex is  dictionaryName.get(\"key\",Error) "
   ]
  },
  {
   "cell_type": "code",
   "execution_count": 39,
   "metadata": {},
   "outputs": [
    {
     "name": "stdout",
     "output_type": "stream",
     "text": [
      "perp one\n"
     ]
    }
   ],
   "source": [
    "from typing import Dict, Union\n",
    "import pprint\n",
    "\n",
    "key = Union[int,str]\n",
    "value = Union[str,int,list,dict,tuple,set]\n",
    "\n",
    "data1 : Dict [key,value] = {\n",
    "                          \"name\" : \"Lubna\",\n",
    "                          \"fname\": \"Adnan Ansari\",\n",
    "                          \"class\": \"perp one\",\n",
    "                          \"age\": \"5 years\",\n",
    "                          } \n",
    "print(data1.get(\"class\",\"NA\"))"
   ]
  },
  {
   "cell_type": "markdown",
   "metadata": {},
   "source": [
    "### Different uses of Dict\n",
    "here we are giving some uses, practics for this it will helpful"
   ]
  },
  {
   "cell_type": "markdown",
   "metadata": {},
   "source": [
    "### print all keys from data1"
   ]
  },
  {
   "cell_type": "code",
   "execution_count": null,
   "metadata": {},
   "outputs": [],
   "source": [
    "from typing import Dict, Union\n",
    "import pprint\n",
    "\n",
    "key = Union[int,str]\n",
    "value = Union[str,int,list,dict,tuple,set]\n",
    "\n",
    "data1 : Dict [key,value] = {\n",
    "                          \"name\" : \"Lubna\",\n",
    "                          \"fname\": \"Adnan Ansari\",\n",
    "                          \"class\": \"perp one\",\n",
    "                          \"age\": \"5 years\",\n",
    "                          } \n",
    "\n",
    "\n",
    "\n",
    "# print all keys from data1\n",
    "res = print(data1.keys()) "
   ]
  },
  {
   "cell_type": "markdown",
   "metadata": {},
   "source": [
    "\n",
    "### print all values from data1"
   ]
  },
  {
   "cell_type": "code",
   "execution_count": null,
   "metadata": {},
   "outputs": [],
   "source": [
    "from typing import Dict, Union\n",
    "import pprint\n",
    "\n",
    "key = Union[int,str]\n",
    "value = Union[str,int,list,dict,tuple,set]\n",
    "\n",
    "data1 : Dict [key,value] = {\n",
    "                          \"name\" : \"Lubna\",\n",
    "                          \"fname\": \"Adnan Ansari\",\n",
    "                          \"class\": \"perp one\",\n",
    "                          \"age\": \"5 years\",\n",
    "                          } \n",
    "\n",
    "\n",
    "# print all values from data1 \n",
    "print(data1.values())"
   ]
  },
  {
   "cell_type": "markdown",
   "metadata": {},
   "source": [
    "### print all keys from data1 by for loop"
   ]
  },
  {
   "cell_type": "code",
   "execution_count": null,
   "metadata": {},
   "outputs": [],
   "source": [
    "from typing import Dict, Union\n",
    "import pprint\n",
    "\n",
    "key = Union[int,str]\n",
    "value = Union[str,int,list,dict,tuple,set]\n",
    "\n",
    "data1 : Dict [key,value] = {\n",
    "                          \"name\" : \"Lubna\",\n",
    "                          \"fname\": \"Adnan Ansari\",\n",
    "                          \"class\": \"perp one\",\n",
    "                          \"age\": \"5 years\",\n",
    "                          } \n",
    "\n",
    "\n",
    "# print all keys from data1 by for loop\n",
    "for d in data1:\n",
    "    print(d)"
   ]
  },
  {
   "cell_type": "markdown",
   "metadata": {},
   "source": [
    "### print all values from data1 by for loop "
   ]
  },
  {
   "cell_type": "code",
   "execution_count": null,
   "metadata": {},
   "outputs": [],
   "source": [
    "from typing import Dict, Union\n",
    "import pprint\n",
    "\n",
    "key = Union[int,str]\n",
    "value = Union[str,int,list,dict,tuple,set]\n",
    "\n",
    "data1 : Dict [key,value] = {\n",
    "                          \"name\" : \"Lubna\",\n",
    "                          \"fname\": \"Adnan Ansari\",\n",
    "                          \"class\": \"perp one\",\n",
    "                          \"age\": \"5 years\",\n",
    "                          } \n",
    "    \n",
    "# print all values from data1 by for loop    \n",
    "for d in data1.values():\n",
    "    print(d)\n",
    "    "
   ]
  },
  {
   "cell_type": "markdown",
   "metadata": {},
   "source": [
    "### print all items from data1 "
   ]
  },
  {
   "cell_type": "code",
   "execution_count": null,
   "metadata": {},
   "outputs": [],
   "source": [
    "from typing import Dict, Union\n",
    "import pprint\n",
    "\n",
    "key = Union[int,str]\n",
    "value = Union[str,int,list,dict,tuple,set]\n",
    "\n",
    "data1 : Dict [key,value] = {\n",
    "                          \"name\" : \"Lubna\",\n",
    "                          \"fname\": \"Adnan Ansari\",\n",
    "                          \"class\": \"perp one\",\n",
    "                          \"age\": \"5 years\",\n",
    "                          } \n",
    "   \n",
    "# print all items from data1  \n",
    "for d in data1.items():\n",
    "    print(d)    \n",
    "  "
   ]
  },
  {
   "cell_type": "markdown",
   "metadata": {},
   "source": [
    "### Seprating key and value"
   ]
  },
  {
   "cell_type": "code",
   "execution_count": null,
   "metadata": {},
   "outputs": [],
   "source": [
    "from typing import Dict, Union\n",
    "import pprint\n",
    "\n",
    "key = Union[int,str]\n",
    "value = Union[str,int,list,dict,tuple,set]\n",
    "\n",
    "data1 : Dict [key,value] = {\n",
    "                          \"name\" : \"Lubna\",\n",
    "                          \"fname\": \"Adnan Ansari\",\n",
    "                          \"class\": \"perp one\",\n",
    "                          \"age\": \"5 years\",\n",
    "                          } \n",
    "    \n",
    "# Seprating key and value    \n",
    "for k,v in data1.items():\n",
    "    print(k,v)"
   ]
  },
  {
   "cell_type": "markdown",
   "metadata": {},
   "source": [
    "### Shuffle the key with value \n",
    "the amazing trick for shuffle remember it, In old python and other language process was very hard but now it is very easy. "
   ]
  },
  {
   "cell_type": "code",
   "execution_count": 64,
   "metadata": {},
   "outputs": [
    {
     "name": "stdout",
     "output_type": "stream",
     "text": [
      "{'age': '5 years',\n",
      " 'class': 'perp one',\n",
      " 'fname': 'Adnan Ansari',\n",
      " 'name': 'Lubna'}\n",
      "{'5 years': 'age',\n",
      " 'Adnan Ansari': 'fname',\n",
      " 'Lubna': 'name',\n",
      " 'perp one': 'class'}\n",
      "a = 4 , b = 5\n"
     ]
    }
   ],
   "source": [
    "from typing import Dict, Union\n",
    "import pprint\n",
    "\n",
    "key = Union[int,str]\n",
    "value = Union[str,int,list,dict,tuple,set]\n",
    "\n",
    "data1 : Dict [key,value] = {\n",
    "                          \"name\" : \"Lubna\",\n",
    "                          \"fname\": \"Adnan Ansari\",\n",
    "                          \"class\": \"perp one\",\n",
    "                          \"age\": \"5 years\",\n",
    "                          } \n",
    "    \n",
    "#  key and value comprehensive style   \n",
    "pprint.pprint({k:v for k,v in data1.items()})\n",
    "\n",
    "# Shuffling  key with value comprehensive style\n",
    "pprint.pprint({v:k for k,v in data1.items()})\n",
    "\n",
    "# To understand what is shuffling\n",
    "\n",
    "a = 5\n",
    "b = 4\n",
    "# and we want to changing values a = 4 and b = 5\n",
    "a,b = b,a  # Shuffle process\n",
    "\n",
    "print(f\"a = {a} , b = {b}\")\n",
    "    "
   ]
  },
  {
   "cell_type": "markdown",
   "metadata": {},
   "source": [
    "### Let we have a list,but make it keys of Dict"
   ]
  },
  {
   "cell_type": "code",
   "execution_count": 70,
   "metadata": {},
   "outputs": [
    {
     "name": "stdout",
     "output_type": "stream",
     "text": [
      "{}\n",
      "{'id': None, 'name': None, 'fname': None, 'course': None}\n"
     ]
    }
   ],
   "source": [
    "keys : list[str] = ['id','name','fname','course']\n",
    "# here key and value are type alias which we define above\n",
    "data : dict[key,value] = {}\n",
    "print(data)\n",
    "data.fromkeys(keys) # this process is inline means, here it will perfome and disolve \n",
    "# if we want to use it we should save in another variable\n",
    "data = data.fromkeys(keys)\n",
    "print(data)"
   ]
  }
 ],
 "metadata": {
  "kernelspec": {
   "display_name": "Python 3",
   "language": "python",
   "name": "python3"
  },
  "language_info": {
   "codemirror_mode": {
    "name": "ipython",
    "version": 3
   },
   "file_extension": ".py",
   "mimetype": "text/x-python",
   "name": "python",
   "nbconvert_exporter": "python",
   "pygments_lexer": "ipython3",
   "version": "3.12.0"
  }
 },
 "nbformat": 4,
 "nbformat_minor": 2
}
