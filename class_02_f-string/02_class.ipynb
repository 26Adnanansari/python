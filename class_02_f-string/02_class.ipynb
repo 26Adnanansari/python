{
 "cells": [
  {
   "cell_type": "markdown",
   "metadata": {},
   "source": [
    "# String DATA Type\n",
    " How we can make variable and store data in type string with different way\n"
   ]
  },
  {
   "cell_type": "code",
   "execution_count": 12,
   "metadata": {},
   "outputs": [
    {
     "name": "stdout",
     "output_type": "stream",
     "text": [
      "Muhammad Adnan\n"
     ]
    }
   ],
   "source": [
    "print(name)"
   ]
  },
  {
   "cell_type": "code",
   "execution_count": 1,
   "metadata": {},
   "outputs": [
    {
     "name": "stdout",
     "output_type": "stream",
     "text": [
      "Muhammad Adnan\n"
     ]
    }
   ],
   "source": [
    "name : str = 'Muhammad Adnan'\n",
    "print(name)"
   ]
  },
  {
   "cell_type": "markdown",
   "metadata": {},
   "source": [
    "## String Data Type Assigning with different Bundries\n",
    "We can write any thing in single double qoutes, triple single and triple double qoutes\n",
    "we will study about it one by one"
   ]
  },
  {
   "cell_type": "code",
   "execution_count": 4,
   "metadata": {},
   "outputs": [],
   "source": [
    "name : str = 'Muhammad Adnan'\n",
    "fname : str = \"Muhammad Shafiq\"\n",
    "education : str = '''BS in IT,Specialist in Python,Typesctript,'''\n",
    "company : str = \"\"\"Pak AI Verse\"\"\""
   ]
  },
  {
   "cell_type": "markdown",
   "metadata": {},
   "source": [
    "### String By Single Qoutes \n",
    "this is old and complex method we should know about it "
   ]
  },
  {
   "cell_type": "code",
   "execution_count": 13,
   "metadata": {},
   "outputs": [
    {
     "ename": "SyntaxError",
     "evalue": "invalid syntax. Perhaps you forgot a comma? (173406641.py, line 2)",
     "output_type": "error",
     "traceback": [
      "\u001b[1;36m  Cell \u001b[1;32mIn[13], line 2\u001b[1;36m\u001b[0m\n\u001b[1;33m    print('we can't learn any thing with its basic)\u001b[0m\n\u001b[1;37m          ^\u001b[0m\n\u001b[1;31mSyntaxError\u001b[0m\u001b[1;31m:\u001b[0m invalid syntax. Perhaps you forgot a comma?\n"
     ]
    }
   ],
   "source": [
    "print('We live in Pakistan')\n",
    "print('we can't learn any thing with its basic')"
   ]
  },
  {
   "cell_type": "markdown",
   "metadata": {},
   "source": [
    "you see the problem when we write single qoute we face problems, solution of it is below"
   ]
  },
  {
   "cell_type": "code",
   "execution_count": 14,
   "metadata": {},
   "outputs": [
    {
     "name": "stdout",
     "output_type": "stream",
     "text": [
      "We live in Pakistan\n",
      "we can't learn any thing with its basic\n"
     ]
    }
   ],
   "source": [
    "print('We live in Pakistan')\n",
    "print(\"we can't learn any thing with its basic\")"
   ]
  },
  {
   "cell_type": "markdown",
   "metadata": {},
   "source": [
    "But in many case above both methods make problem for developer when we want to concenete two or more\n",
    "think about it, if we want to place variable name in it"
   ]
  },
  {
   "cell_type": "code",
   "execution_count": 17,
   "metadata": {},
   "outputs": [
    {
     "name": "stdout",
     "output_type": "stream",
     "text": [
      "Name : Muhammad AdnanFather Name : Muhammad ShafiqEducation : BS in IT,Specialist in Python,Typesctript,Company : Pak AI Verse\n"
     ]
    }
   ],
   "source": [
    "name : str = 'Muhammad Adnan'\n",
    "fname : str = 'Muhammad Shafiq'\n",
    "education : str = 'BS in IT,Specialist in Python,Typesctript,'\n",
    "company : str = \"Pak AI Verse\"\n",
    "since : int = 38\n",
    "print('Name : '+ name + 'Father Name : '+ fname + 'Education : '+ education + 'Company : '+ company )"
   ]
  },
  {
   "cell_type": "markdown",
   "metadata": {},
   "source": [
    "we are watching it their is no formatting\n",
    "all the text in one line that is looking bad\n",
    "Now we are formatting it\n",
    "using \\n to break line"
   ]
  },
  {
   "cell_type": "code",
   "execution_count": 19,
   "metadata": {},
   "outputs": [
    {
     "name": "stdout",
     "output_type": "stream",
     "text": [
      "Name : Muhammad Adnan\n",
      "Father Name : Muhammad Shafiq\n",
      "Education : BS in IT,Specialist in Python,Typesctript,\n",
      "Company : Pak AI Verse\n"
     ]
    }
   ],
   "source": [
    "name : str = 'Muhammad Adnan'\n",
    "fname : str = 'Muhammad Shafiq'\n",
    "education : str = 'BS in IT,Specialist in Python,Typesctript,'\n",
    "company : str = \"Pak AI Verse\"\n",
    "since : int = 38\n",
    "print('Name : '+ name + '\\nFather Name : '+ fname + '\\nEducation : '+ education + '\\nCompany : '+ company)"
   ]
  },
  {
   "cell_type": "markdown",
   "metadata": {},
   "source": [
    "if we use our above variable \"since\" which data type is int means number\n",
    "we will face a problem see it"
   ]
  },
  {
   "cell_type": "code",
   "execution_count": 20,
   "metadata": {},
   "outputs": [
    {
     "ename": "TypeError",
     "evalue": "can only concatenate str (not \"int\") to str",
     "output_type": "error",
     "traceback": [
      "\u001b[1;31m---------------------------------------------------------------------------\u001b[0m",
      "\u001b[1;31mTypeError\u001b[0m                                 Traceback (most recent call last)",
      "Cell \u001b[1;32mIn[20], line 6\u001b[0m\n\u001b[0;32m      4\u001b[0m company : \u001b[38;5;28mstr\u001b[39m \u001b[38;5;241m=\u001b[39m \u001b[38;5;124m\"\u001b[39m\u001b[38;5;124mPak AI Verse\u001b[39m\u001b[38;5;124m\"\u001b[39m\n\u001b[0;32m      5\u001b[0m since : \u001b[38;5;28mint\u001b[39m \u001b[38;5;241m=\u001b[39m \u001b[38;5;241m38\u001b[39m\n\u001b[1;32m----> 6\u001b[0m \u001b[38;5;28mprint\u001b[39m(\u001b[38;5;124;43m'\u001b[39;49m\u001b[38;5;124;43mName : \u001b[39;49m\u001b[38;5;124;43m'\u001b[39;49m\u001b[38;5;241;43m+\u001b[39;49m\u001b[43m \u001b[49m\u001b[43mname\u001b[49m\u001b[43m \u001b[49m\u001b[38;5;241;43m+\u001b[39;49m\u001b[43m \u001b[49m\u001b[38;5;124;43m'\u001b[39;49m\u001b[38;5;124;43mFather Name : \u001b[39;49m\u001b[38;5;124;43m'\u001b[39;49m\u001b[38;5;241;43m+\u001b[39;49m\u001b[43m \u001b[49m\u001b[43mfname\u001b[49m\u001b[43m \u001b[49m\u001b[38;5;241;43m+\u001b[39;49m\u001b[43m \u001b[49m\u001b[38;5;124;43m'\u001b[39;49m\u001b[38;5;124;43mEducation : \u001b[39;49m\u001b[38;5;124;43m'\u001b[39;49m\u001b[38;5;241;43m+\u001b[39;49m\u001b[43m \u001b[49m\u001b[43meducation\u001b[49m\u001b[43m \u001b[49m\u001b[38;5;241;43m+\u001b[39;49m\u001b[43m \u001b[49m\u001b[38;5;124;43m'\u001b[39;49m\u001b[38;5;124;43mCompany : \u001b[39;49m\u001b[38;5;124;43m'\u001b[39;49m\u001b[38;5;241;43m+\u001b[39;49m\u001b[43m \u001b[49m\u001b[43mcompany\u001b[49m\u001b[43m \u001b[49m\u001b[38;5;241;43m+\u001b[39;49m\u001b[43m \u001b[49m\u001b[38;5;124;43m'\u001b[39;49m\u001b[38;5;124;43mSince \u001b[39;49m\u001b[38;5;124;43m'\u001b[39;49m\u001b[43m \u001b[49m\u001b[38;5;241;43m+\u001b[39;49m\u001b[43m \u001b[49m\u001b[43msince\u001b[49m)\n",
      "\u001b[1;31mTypeError\u001b[0m: can only concatenate str (not \"int\") to str"
     ]
    }
   ],
   "source": [
    "name : str = 'Muhammad Adnan'\n",
    "fname : str = 'Muhammad Shafiq'\n",
    "education : str = 'BS in IT,Specialist in Python,Typesctript,'\n",
    "company : str = \"Pak AI Verse\"\n",
    "since : int = 38\n",
    "print('Name : '+ name + 'Father Name : '+ fname + 'Education : '+ education + 'Company : '+ company + 'Since ' + since)"
   ]
  },
  {
   "cell_type": "markdown",
   "metadata": {},
   "source": [
    "This is type error because since is int, not a string.\n",
    "There are so many problem in old methods, single and qouble qoutes method almost same, when we use inside single qoute then out side double qoute, and other opposite of it.\n"
   ]
  },
  {
   "cell_type": "markdown",
   "metadata": {},
   "source": [
    "## Triple Single and double qoutes, Multiple Line String\n",
    "it give us some benefit like when we write a formated data we found as it is see example.it is called Multiple Line String"
   ]
  },
  {
   "cell_type": "code",
   "execution_count": 1,
   "metadata": {},
   "outputs": [
    {
     "name": "stdout",
     "output_type": "stream",
     "text": [
      "\n",
      "Name : ................\n",
      "Father Name : .........\n",
      "Age : .................\n",
      "Education : ...........\n",
      "\n"
     ]
    }
   ],
   "source": [
    "print(\n",
    "    '''\n",
    "Name : ................\n",
    "Father Name : .........\n",
    "Age : .................\n",
    "Education : ...........\n",
    "'''\n",
    ")"
   ]
  },
  {
   "cell_type": "markdown",
   "metadata": {},
   "source": [
    "First benefit is we don't need to use \\n or other escape character for formatting data.\n",
    "Let we want to add data in this format can we do?\n",
    "let's see"
   ]
  },
  {
   "cell_type": "code",
   "execution_count": 2,
   "metadata": {},
   "outputs": [
    {
     "name": "stdout",
     "output_type": "stream",
     "text": [
      "\n",
      "Name : {name}\n",
      "Father Name : {fname}\n",
      "Age : {age}\n",
      "Education : {education}\n",
      "School : {school}\n",
      "\n"
     ]
    }
   ],
   "source": [
    "name : str = 'Muhammad Salman'\n",
    "fname : str = 'Muhammad Adnan'\n",
    "age : int = 10\n",
    "education : str = '4th class'\n",
    "school : str = 'The Best Academy'\n",
    "print(\n",
    "    '''\n",
    "Name : {name}\n",
    "Father Name : {fname}\n",
    "Age : {age}\n",
    "Education : {education}\n",
    "School : {school}\n",
    "'''\n",
    ")"
   ]
  },
  {
   "cell_type": "markdown",
   "metadata": {},
   "source": [
    "We could not find the data we saw triple qoute single and double used for formate the data but not for read the varaibles\n",
    "then f-string came, we just write f before triple qoute and result is here,also there is no type error \n",
    "age variable is int f-string control all the error which we read above"
   ]
  },
  {
   "cell_type": "code",
   "execution_count": 3,
   "metadata": {},
   "outputs": [
    {
     "name": "stdout",
     "output_type": "stream",
     "text": [
      "\n",
      "Name : Muhammad Salman\n",
      "Father Name : Muhammad Adnan\n",
      "Age : 10\n",
      "Education : 4th class\n",
      "School : The Best Academy\n",
      "\n"
     ]
    }
   ],
   "source": [
    "name : str = 'Muhammad Salman'\n",
    "fname : str = 'Muhammad Adnan'\n",
    "age : int = 10\n",
    "education : str = '4th class'\n",
    "school : str = 'The Best Academy'\n",
    "print(f'''\n",
    "Name : {name}\n",
    "Father Name : {fname}\n",
    "Age : {age}\n",
    "Education : {education}\n",
    "School : {school}\n",
    "'''\n",
    ")"
   ]
  },
  {
   "cell_type": "markdown",
   "metadata": {},
   "source": [
    "Certainly! Here are five key features of f-strings in Python:\n",
    "\n",
    "    1-Simple Syntax: F-strings use a straightforward syntax, allowing you to embed Python expressions directly within string literals by prefixing them with 'f' or 'F'.\n",
    "\n",
    "    2-Dynamic Formatting: F-strings allow for dynamic formatting, enabling the inclusion of variables, function calls, and even complex expressions directly within the string.\n",
    "\n",
    "    3-Readability: F-strings enhance code readability by providing a clear and concise way to format strings, making it easier to understand and maintain.\n",
    "\n",
    "    4-Efficiency: F-strings are efficient in terms of both performance and code writing, as they eliminate the need for additional formatting functions like .format() or % interpolation.\n",
    "\n",
    "    5-Pythonic: F-strings adhere to the Pythonic philosophy of \"There should be one-- and preferably only one --obvious way to do it,\" offering a preferred approach for string interpolation and formatting in modern Python code."
   ]
  },
  {
   "cell_type": "code",
   "execution_count": 9,
   "metadata": {},
   "outputs": [
    {
     "name": "stdout",
     "output_type": "stream",
     "text": [
      "\n",
      "Name : Muhammad Salman\n",
      "Father Name : Muhammad Adnan\n",
      "Age : 10\n",
      "Education : 4th class\n",
      "School : The Best Academy\n",
      "experience : 15   // Now we can calculate equations\n",
      "\n"
     ]
    }
   ],
   "source": [
    "name : str = 'Muhammad Salman'\n",
    "fname : str = 'Muhammad Adnan'\n",
    "age : int = 10\n",
    "education : str = '4th class'\n",
    "school : str = 'The Best Academy'\n",
    "data : str = f\"\"\"\n",
    "Name : {name}\n",
    "Father Name : {fname}\n",
    "Age : {age}\n",
    "Education : {education}\n",
    "School : {school}\n",
    "experience : {5+2+8}   // Now we can calculate equations\n",
    "\"\"\"\n",
    "print(data)\n"
   ]
  },
  {
   "cell_type": "markdown",
   "metadata": {},
   "source": [
    "Now we will see\n",
    "## f-string vs jinja \n",
    "These methods are very important for new technoligies and may be will continue in future \n",
    "please remember it these both almost same functionality but syntex is change but result same\n",
    "you can paractise of one but you should know about both.\n",
    "\n",
    "f-string :    f'''string'''\n",
    "f-string : f\"\"\"string\"\"\"\n",
    "\n",
    "JINJA   : '''{{string}}'''\n",
    "JINJA   : \"\"\"{{string}}\"\"\"\n",
    "jinja not run without server"
   ]
  },
  {
   "cell_type": "markdown",
   "metadata": {},
   "source": [
    "above code for str methods, you are watching in result lets try one by one"
   ]
  },
  {
   "cell_type": "code",
   "execution_count": 27,
   "metadata": {},
   "outputs": [
    {
     "name": "stdout",
     "output_type": "stream",
     "text": [
      "\n",
      "Name : Muhammad Salman\n",
      "Father Name : Muhammad Adnan\n",
      "Age : 10\n",
      "Education : 4th class\n",
      "School : The Best Academy\n",
      "\n"
     ]
    }
   ],
   "source": [
    "name : str = 'Muhammad Salman'\n",
    "fname : str = 'Muhammad Adnan'\n",
    "age : int = 10\n",
    "education : str = '4th class'\n",
    "school : str = 'The Best Academy'\n",
    "card : str = \"\"\"\n",
    "Name : {a}\n",
    "Father Name : {b}\n",
    "Age : {c}\n",
    "Education : {d}\n",
    "School : {e}\n",
    "\"\"\".format(a=name, b=fname, c=age, d=education, e=school)\n",
    "\n",
    "print(card)"
   ]
  },
  {
   "cell_type": "markdown",
   "metadata": {},
   "source": [
    ".format() method pass the data to placeholder "
   ]
  },
  {
   "cell_type": "markdown",
   "metadata": {},
   "source": [
    "# Top preferred style for coding"
   ]
  },
  {
   "cell_type": "code",
   "execution_count": 28,
   "metadata": {},
   "outputs": [
    {
     "name": "stdout",
     "output_type": "stream",
     "text": [
      "\n",
      "Name : Muhammad Salman\n",
      "Father Name : Muhammad Adnan\n",
      "Age : 10\n",
      "Education : 4th class\n",
      "School : The Best Academy\n",
      "experience : 15   // Now we can calculate equations\n",
      "\n"
     ]
    }
   ],
   "source": [
    "name : str = 'Muhammad Salman'\n",
    "fname : str = 'Muhammad Adnan'\n",
    "age : int = 10\n",
    "education : str = '4th class'\n",
    "school : str = 'The Best Academy'\n",
    "data : str = f\"\"\"\n",
    "Name : {name}\n",
    "Father Name : {fname}\n",
    "Age : {age}\n",
    "Education : {education}\n",
    "School : {school}\n",
    "experience : {5+2+8}   // Now we can calculate equations\n",
    "\"\"\"\n",
    "print(data)\n"
   ]
  },
  {
   "cell_type": "markdown",
   "metadata": {},
   "source": [
    "# Use Of Globle Pre Define Function"
   ]
  },
  {
   "cell_type": "code",
   "execution_count": 11,
   "metadata": {},
   "outputs": [
    {
     "data": {
      "text/plain": [
       "{'capitalize',\n",
       " 'casefold',\n",
       " 'center',\n",
       " 'count',\n",
       " 'encode',\n",
       " 'endswith',\n",
       " 'expandtabs',\n",
       " 'find',\n",
       " 'format',\n",
       " 'index',\n",
       " 'isalnum',\n",
       " 'isalpha',\n",
       " 'isascii',\n",
       " 'isdecimal',\n",
       " 'isdigit',\n",
       " 'isidentifier',\n",
       " 'islower',\n",
       " 'isnumeric',\n",
       " 'isprintable',\n",
       " 'isspace',\n",
       " 'istitle',\n",
       " 'isupper',\n",
       " 'join',\n",
       " 'ljust',\n",
       " 'lower',\n",
       " 'lstrip',\n",
       " 'maketrans',\n",
       " 'partition',\n",
       " 'removeprefix',\n",
       " 'removesuffix',\n",
       " 'replace',\n",
       " 'rfind',\n",
       " 'rindex',\n",
       " 'rjust',\n",
       " 'rpartition',\n",
       " 'rsplit',\n",
       " 'rstrip',\n",
       " 'split',\n",
       " 'splitlines',\n",
       " 'startswith',\n",
       " 'strip',\n",
       " 'swapcase',\n",
       " 'title',\n",
       " 'translate',\n",
       " 'upper',\n",
       " 'zfill'}"
      ]
     },
     "execution_count": 11,
     "metadata": {},
     "output_type": "execute_result"
    }
   ],
   "source": [
    "{i for i in dir(str) if \"_\" not in i}"
   ]
  },
  {
   "cell_type": "markdown",
   "metadata": {},
   "source": [
    "### Lower Case()\n",
    "it change str text into lowercase"
   ]
  },
  {
   "cell_type": "code",
   "execution_count": 17,
   "metadata": {},
   "outputs": [
    {
     "name": "stdout",
     "output_type": "stream",
     "text": [
      "Before lower : MuhaMmad SalMan AnsaRi\n",
      "After lower : muhammad salman ansari\n"
     ]
    }
   ],
   "source": [
    "name : str = 'MuhaMmad SalMan AnsaRi'\n",
    "print('Before lower() : '+ name)\n",
    "capname : str = name.lower()\n",
    "print('After lower() : '+ capname)\n"
   ]
  },
  {
   "cell_type": "markdown",
   "metadata": {},
   "source": [
    "### Casefold()\n",
    "gernally it fold str text into any same case lower or upper but mostly change in lowercase"
   ]
  },
  {
   "cell_type": "code",
   "execution_count": 41,
   "metadata": {},
   "outputs": [
    {
     "name": "stdout",
     "output_type": "stream",
     "text": [
      "Before casefold() : MUHAMMAD ADNAN ANSARI\n",
      "After casefold() : muhammad adnan ansari\n"
     ]
    }
   ],
   "source": [
    "name : str = 'MUHAMMAD ADNAN ANSARI'\n",
    "print('Before casefold() : '+ name)\n",
    "capname : str = name.casefold()\n",
    "print('After casefold() : '+ capname)"
   ]
  },
  {
   "cell_type": "markdown",
   "metadata": {},
   "source": [
    "### upper()\n",
    "it change str text into upper case"
   ]
  },
  {
   "cell_type": "code",
   "execution_count": 16,
   "metadata": {},
   "outputs": [
    {
     "name": "stdout",
     "output_type": "stream",
     "text": [
      "Before upper : MuhaMmad SalMan AnsaRi\n",
      "After upper : MUHAMMAD SALMAN ANSARI\n"
     ]
    }
   ],
   "source": [
    "name : str = 'MuhaMmad SalMan AnsaRi'\n",
    "print('Before upper() : '+ name)\n",
    "capname : str = name.upper()\n",
    "print('After upper() : '+ capname)\n"
   ]
  },
  {
   "cell_type": "markdown",
   "metadata": {},
   "source": [
    "### capitalize()\n",
    "it change in uppercase only first latter and remaining latter in lowercase "
   ]
  },
  {
   "cell_type": "code",
   "execution_count": 14,
   "metadata": {},
   "outputs": [
    {
     "name": "stdout",
     "output_type": "stream",
     "text": [
      "Before capitalize : Muhammad Salman Ansari\n",
      "After capitalize : Muhammad salman ansari\n"
     ]
    }
   ],
   "source": [
    "name : str = 'Muhammad Salman Ansari'\n",
    "print('Before capitalize() : '+ name)\n",
    "capname : str = name.capitalize()\n",
    "print('After capitalize() : '+ capname)"
   ]
  },
  {
   "cell_type": "markdown",
   "metadata": {},
   "source": [
    "### title()\n",
    "it change str text into lowercase"
   ]
  },
  {
   "cell_type": "code",
   "execution_count": 29,
   "metadata": {},
   "outputs": [
    {
     "name": "stdout",
     "output_type": "stream",
     "text": [
      "Before title : MuhaMmad SalMan AnsaRi\n",
      "After title : Muhammad Salman Ansari\n"
     ]
    }
   ],
   "source": [
    "name : str = 'MuhaMmad SalMan AnsaRi'\n",
    "print('Before title() : '+ name)\n",
    "capname : str = name.title()\n",
    "print('After title() : '+ capname)"
   ]
  },
  {
   "cell_type": "markdown",
   "metadata": {},
   "source": [
    "### lstrip()\n",
    "if we have a text having spacese on left side it will remove\n",
    "means \"         I am a girl       \"\n",
    "after apply this function \"I am a girl       \" you can not see without select it"
   ]
  },
  {
   "cell_type": "code",
   "execution_count": 43,
   "metadata": {},
   "outputs": [
    {
     "name": "stdout",
     "output_type": "stream",
     "text": [
      "I am a girl       \n"
     ]
    }
   ],
   "source": [
    "text : str = \"         I am a girl       \"\n",
    "result : str = text.lstrip()\n",
    "print(result)"
   ]
  },
  {
   "cell_type": "markdown",
   "metadata": {},
   "source": [
    "### rstrip()\n",
    "if we have a text having spacese on left side it will remove\n",
    "means \"         I am a girl       \"\n",
    "after apply this function \"         I am a girl\" "
   ]
  },
  {
   "cell_type": "code",
   "execution_count": 44,
   "metadata": {},
   "outputs": [
    {
     "name": "stdout",
     "output_type": "stream",
     "text": [
      "         I am a girl\n"
     ]
    }
   ],
   "source": [
    "text : str = \"         I am a girl       \"\n",
    "result : str = text.rstrip()\n",
    "print(result)"
   ]
  },
  {
   "cell_type": "markdown",
   "metadata": {},
   "source": [
    "### strip()\n",
    "it will remove both side spacese\n",
    "if we have a text having spacese \n",
    "means \"         I am a girl       \"\n",
    "after apply this function \"I am a girl\" \n"
   ]
  },
  {
   "cell_type": "code",
   "execution_count": 45,
   "metadata": {},
   "outputs": [
    {
     "name": "stdout",
     "output_type": "stream",
     "text": [
      "I am a girl\n"
     ]
    }
   ],
   "source": [
    "text : str = \"         I am a girl       \"\n",
    "result : str = text.strip()\n",
    "print(result)"
   ]
  }
 ],
 "metadata": {
  "kernelspec": {
   "display_name": "Python 3",
   "language": "python",
   "name": "python3"
  },
  "language_info": {
   "codemirror_mode": {
    "name": "ipython",
    "version": 3
   },
   "file_extension": ".py",
   "mimetype": "text/x-python",
   "name": "python",
   "nbconvert_exporter": "python",
   "pygments_lexer": "ipython3",
   "version": "3.12.0"
  }
 },
 "nbformat": 4,
 "nbformat_minor": 2
}
