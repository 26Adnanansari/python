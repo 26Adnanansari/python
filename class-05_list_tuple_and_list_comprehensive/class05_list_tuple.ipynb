{
 "cells": [
  {
   "cell_type": "markdown",
   "id": "c3a4fd4c-1a78-42d7-a65f-044b41e0ae95",
   "metadata": {},
   "source": [
    "# List\n",
    "*  Iteration operation with loop\n",
    "*  Apply any operation on element"
   ]
  },
  {
   "cell_type": "code",
   "execution_count": 1,
   "id": "d2a7cbaa",
   "metadata": {},
   "outputs": [
    {
     "name": "stdout",
     "output_type": "stream",
     "text": [
      "['Sir Zia', 'Muhammad Qasim', 'DR Noman']\n"
     ]
    }
   ],
   "source": [
    "names : list[str] = ['Sir Zia',\"Muhammad Qasim\",\"DR Noman\"] # variable name type is List and its str\n",
    "print(names)                                                # then print it"
   ]
  },
  {
   "cell_type": "code",
   "execution_count": 8,
   "id": "45b3f174",
   "metadata": {},
   "outputs": [
    {
     "name": "stdout",
     "output_type": "stream",
     "text": [
      "Sir Zia\n",
      "Muhammad Qasim\n",
      "DR. Noman\n"
     ]
    }
   ],
   "source": [
    "names:list[str] = ['Sir Zia', \"Muhammad Qasim\", \"DR. Noman\"]\n",
    "\n",
    "for name in names:                  # 1  Sir zia\n",
    "      print(name)                   # 2  Muhammad Qasim\n",
    "                                    # 3  DR. Noman  \n",
    "      \n",
    "# As like typescript \n",
    "# names = names = ['Sir Zia', \"Muhammad Qasim\", \"DR Noman\"]\n",
    "# for(i=0; i<names.length; i++){\n",
    "#     names[i]\n",
    "# }\n"
   ]
  },
  {
   "cell_type": "code",
   "execution_count": 9,
   "id": "548790d2",
   "metadata": {},
   "outputs": [
    {
     "name": "stdout",
     "output_type": "stream",
     "text": [
      "Sir Zia\n",
      "Muhammad Qasim\n",
      "DR Noman\n"
     ]
    }
   ],
   "source": [
    "# Old code was very complex in python\n",
    "names = ['Sir Zia', \"Muhammad Qasim\", \"DR Noman\"]\n",
    "\n",
    "i:int = 0 # counter = 0\n",
    "\n",
    "while i<len(names): # names length =3\n",
    "    print(names[i])\n",
    "    i += 1\n",
    "    "
   ]
  },
  {
   "cell_type": "code",
   "execution_count": 10,
   "id": "39ae5b3b",
   "metadata": {},
   "outputs": [
    {
     "name": "stdout",
     "output_type": "stream",
     "text": [
      "Sir Zia\n",
      "Muhammad Qasim\n",
      "DR Noman\n"
     ]
    }
   ],
   "source": [
    "# Modren code of python : for in  loop\n",
    "names:list[str] = ['Sir Zia', \"Muhammad Qasim\", \"DR Noman\"]\n",
    "\n",
    "for name in names:\n",
    "    print(name)"
   ]
  },
  {
   "cell_type": "code",
   "execution_count": 12,
   "id": "fc9e575e",
   "metadata": {},
   "outputs": [
    {
     "name": "stdout",
     "output_type": "stream",
     "text": [
      "Welcome Dear Tacher Sir Zia\n",
      "Welcome Dear Tacher Muhammad Qasim\n",
      "Welcome Dear Tacher Dr Noman\n"
     ]
    }
   ],
   "source": [
    "# Lets try with title() method\n",
    "for name in names:\n",
    "    print(f'Welcome Dear Tacher {name.title()}')\n",
    "\n",
    "# we should remember some Indentation\n",
    "    # we have combitation of state which follow a perant statment we would write as \n",
    "    # parent will left aling with no space\n",
    "    # all follwing statement left align but have a tab or space\n",
    "    # and then start unfollow statements again left align\n",
    "\n",
    "#$$$$$$$$$$$$$$$\n",
    "    #$$$$$$$$$$$$$$$$ \n",
    "    #$$$$$$$$$$$$$$$\n",
    "    #$$$$$$$$$$$$$$$\n",
    "    #$$$$$$$$$$$$$$$\n",
    "    \n",
    "#$$$$$$$$$$$$$$$  we will discuss it brifly\n",
    "    \n"
   ]
  },
  {
   "cell_type": "code",
   "execution_count": 14,
   "id": "5fbd0ed0",
   "metadata": {},
   "outputs": [
    {
     "name": "stdout",
     "output_type": "stream",
     "text": [
      "Welcome Dear Tacher Sir Zia\n",
      "PIAIC Gen AI Team\n",
      "\n",
      "Welcome Dear Tacher Muhammad Qasim\n",
      "PIAIC Gen AI Team\n",
      "\n",
      "Welcome Dear Tacher Dr Noman\n",
      "PIAIC Gen AI Team\n",
      "\n"
     ]
    }
   ],
   "source": [
    "# let see another Example\n",
    "names:list[str] = ['Sir Zia', \"Muhammad Qasim\", \"DR Noman\"]\n",
    "\n",
    "for name in names:\n",
    "    print(f'Welcome Dear Tacher {name.title()}')\n",
    "    print(\"PIAIC Gen AI Team\\n\")\n",
    "\n",
    "    # here for loop covering 2 statment"
   ]
  },
  {
   "cell_type": "code",
   "execution_count": null,
   "id": "3985b58d",
   "metadata": {},
   "outputs": [],
   "source": [
    "# Here we are taking an example that when we change Indentation for loop does not consider that statement in looping\n",
    "names:list[str] = ['Sir Zia', \"Muhammad Qasim\", \"DR Noman\"]\n",
    "\n",
    "for name in names:\n",
    "    print(f'Welcome Dear Tacher {name.title()}')\n",
    "    print(\"PIAIC Gen AI Team\\n\")\n",
    "\n",
    "print(\"Pakistan zinda bad\")"
   ]
  },
  {
   "cell_type": "markdown",
   "id": "64cd1917",
   "metadata": {},
   "source": [
    "### Question : can we write the code like for loop that  \n",
    "* i=0;i<name.length();i++\n",
    "* this same above but i want to run this code only two value\n",
    "how can we do this?"
   ]
  },
  {
   "cell_type": "code",
   "execution_count": 30,
   "id": "f2dd747e",
   "metadata": {},
   "outputs": [
    {
     "name": "stdout",
     "output_type": "stream",
     "text": [
      "Welcome Dear Tacher Sir Zia\n",
      "PIAIC Gen AI Team\n",
      "\n",
      "Welcome Dear Tacher Muhammad Qasim\n",
      "PIAIC Gen AI Team\n",
      "\n",
      "Pakistan zinda bad\n"
     ]
    }
   ],
   "source": [
    "names:list[str] = ['Sir Zia', \"Muhammad Qasim\", \"DR Noman\"]\n",
    "\n",
    "for name in names[0:2]:   # as we read this in our last class Slicing method is here\n",
    "    #it will run only 2 values\n",
    "    print(f'Welcome Dear Tacher {name.title()}')\n",
    "    print(\"PIAIC Gen AI Team\\n\")\n",
    "\n",
    "print(\"Pakistan zinda bad\")"
   ]
  },
  {
   "cell_type": "code",
   "execution_count": 31,
   "id": "2bc5ae4e",
   "metadata": {},
   "outputs": [
    {
     "name": "stdout",
     "output_type": "stream",
     "text": [
      "Welcome Dear Tacher Dr Noman\n",
      "PIAIC Gen AI Team\n",
      "\n",
      "Pakistan zinda bad\n"
     ]
    }
   ],
   "source": [
    "#Lets take an nagetive Example : last one value\n",
    "names:list[str] = ['Sir Zia', \"Muhammad Qasim\", \"DR Noman\"]\n",
    "\n",
    "for name in names[-1:]:  # as we read this in our last class Slicing method is here\n",
    "    #it will run only 2 values\n",
    "    print(f'Welcome Dear Tacher {name.title()}')\n",
    "    print(\"PIAIC Gen AI Team\\n\")\n",
    "\n",
    "print(\"Pakistan zinda bad\")"
   ]
  },
  {
   "cell_type": "code",
   "execution_count": 32,
   "id": "0903d022",
   "metadata": {},
   "outputs": [
    {
     "name": "stdout",
     "output_type": "stream",
     "text": [
      "Welcome Dear Tacher DR NOMAN\n",
      "PIAIC Gen AI Team\n",
      "\n",
      "Welcome Dear Tacher MUHAMMAD QASIM\n",
      "PIAIC Gen AI Team\n",
      "\n",
      "Welcome Dear Tacher SIR ZIA\n",
      "PIAIC Gen AI Team\n",
      "\n",
      "Pakistan zinda bad\n",
      "\n"
     ]
    }
   ],
   "source": [
    "# this is the example for descending means last to first\n",
    "names:list[str] = ['Sir Zia', \"Muhammad Qasim\", \"DR Noman\"]\n",
    "\n",
    "for name in names[::-1]:\n",
    "    print(f'Welcome Dear Tacher {name.upper()}')\n",
    "    print(\"PIAIC Gen AI Team\\n\")\n",
    "print(\"Pakistan zinda bad\\n\")"
   ]
  },
  {
   "cell_type": "code",
   "execution_count": null,
   "id": "e7621442",
   "metadata": {},
   "outputs": [],
   "source": [
    "# like above we are using for but at this time variable type is tuple\n",
    "# \n",
    "data_base : list[tuple[str,str]] = [(\"qasim\",'123'),\n",
    "                                    (\"sirzia\",'345'),\n",
    "                                    ('ikhlas','789')\n",
    "                                    ]\n",
    "\n",
    "for row in data_base:\n",
    "    print(row)"
   ]
  },
  {
   "cell_type": "markdown",
   "id": "25a8a21a",
   "metadata": {},
   "source": [
    "1. data_base: This is the variable name chosen to store the list.\n",
    "\n",
    "2. list[tuple[str, str]]: This part defines the type annotation for the variable. It specifies that data_base is a:\n",
    "* list: A collection of ordered elements.\n",
    "* tuple[str, str]: Each element within the list is a tuple containing two elements, both of which are strings.\n",
    "\n",
    "3. [(\"qasim\",'123'), (\"sirzia\",'345'), ('ikhlas','789')]: This is the actual list containing three tuples. Each tuple represents a data entry with two values:\n",
    "* The first element is a string, likely representing a name (\"qasim\", \"sirzia\", \"ikhlas\").\n",
    "* The second element is also a string, possibly representing an ID (\"123\", \"345\", \"789\").\n",
    "\n",
    "In simpler terms, this code creates a list named data_base that stores information like names and potentially corresponding IDs in a structured format using tuples.\n",
    "\n",
    "Here are some additional points to consider:\n",
    "\n",
    "The type annotation (list[tuple[str, str]]) is optional but helps improve code readability and maintainability by explicitly declaring the expected data types.\n",
    "The actual data stored in the tuples might represent different information depending on the context of your code.\n",
    "It's essential to ensure the data being assigned to the tuples aligns with the intended purpose and adheres to any specific requirements for data types and formats."
   ]
  },
  {
   "cell_type": "code",
   "execution_count": 33,
   "id": "f00b5e1e",
   "metadata": {},
   "outputs": [
    {
     "name": "stdout",
     "output_type": "stream",
     "text": [
      "qasim 123\n",
      "sirzia 345\n",
      "ikhlas 789\n"
     ]
    }
   ],
   "source": [
    "# here we are using unzip method that local variable row take one by one value and it will store local user and then password \n",
    "# it will apply on all values  \n",
    "\n",
    "data_base : list[tuple[str,str]] = [(\"qasim\",'123'),\n",
    "                                    (\"sirzia\",'345'),\n",
    "                                    ('ikhlas','789')\n",
    "                                    ]\n",
    "\n",
    "for row in data_base:\n",
    "    user, password = row\n",
    "    print(user, password)"
   ]
  },
  {
   "cell_type": "code",
   "execution_count": 34,
   "id": "86ed3f60",
   "metadata": {},
   "outputs": [
    {
     "name": "stdout",
     "output_type": "stream",
     "text": [
      "Adnan\n"
     ]
    }
   ],
   "source": [
    "# Take a input from user in run time\n",
    "input_user : str = input(\"Enter user name\")\n",
    "print(input_user)\n",
    "#remember we are not storing it."
   ]
  },
  {
   "cell_type": "code",
   "execution_count": 36,
   "id": "6c7e0488",
   "metadata": {},
   "outputs": [
    {
     "name": "stdout",
     "output_type": "stream",
     "text": [
      "Valid User qasim\n"
     ]
    }
   ],
   "source": [
    "# data base as we define in last put correct value at this time\n",
    "data_base : list[tuple[str,str]] = [(\"qasim\",'123'),\n",
    "                                    (\"sirzia\",'345'),\n",
    "                                    ('ikhlas','789')\n",
    "                                    ]\n",
    "# Run time input command\n",
    "input_user : str = input(\"Enter user name\")\n",
    "input_password : str = input(\"Enter user password\")\n",
    "\n",
    "\n",
    "# for loop we have see it.\n",
    "for row in data_base:\n",
    "    user, password = row\n",
    "    # condition we are defining it\n",
    "    # check if user input is equal to our data base user and user input password is equal to data base password \n",
    "    if input_user == user and input_password == password:\n",
    "        #if it is true then print Valid User 'Name'\n",
    "        print(f\"Valid User {user}\")\n",
    "        break\n",
    "else:\n",
    "    #and if not correct print it 'Not found or Invalid user name'\n",
    "    print(\"Not found or Invalid user name\")"
   ]
  },
  {
   "cell_type": "code",
   "execution_count": 37,
   "id": "d7b55714",
   "metadata": {},
   "outputs": [
    {
     "name": "stdout",
     "output_type": "stream",
     "text": [
      "Not found or Invalid user name\n"
     ]
    }
   ],
   "source": [
    "# data base as we define in last put incorrect value at this time\n",
    "data_base : list[tuple[str,str]] = [(\"qasim\",'123'),\n",
    "                                    (\"sirzia\",'345'),\n",
    "                                    ('ikhlas','789')\n",
    "                                    ]\n",
    "# Run time input command\n",
    "input_user : str = input(\"Enter user name\")\n",
    "input_password : str = input(\"Enter user password\")\n",
    "\n",
    "\n",
    "# for loop we have see it.\n",
    "for row in data_base:\n",
    "    user, password = row\n",
    "    # condition we are defining it\n",
    "    # check if user input is equal to our data base user and user input password is equal to data base password \n",
    "    if input_user == user and input_password == password:\n",
    "        #if it is true then print Valid User 'Name'\n",
    "        print(f\"Valid User {user}\")\n",
    "        break\n",
    "else:\n",
    "    #and if not correct print it 'Not found or Invalid user name'\n",
    "    print(\"Not found or Invalid user name\")"
   ]
  },
  {
   "cell_type": "code",
   "execution_count": null,
   "id": "2f9f08ad",
   "metadata": {},
   "outputs": [],
   "source": [
    "# Lets Learn code of for loop\n",
    "\n",
    "names:list[str] = ['Sir Zia', \"Muhammad Qasim\", \"DR Noman\"]\n",
    "\n",
    "for name in names:          #   1st time run for first value 'Sir Zia' it take and print there is another in list True\n",
    "    print(name)             #   2nd              second value 'Muhammad Qasim'                                    True           \n",
    "else:                       #   3rd              third value  'DR Noman'                                          False\n",
    "    print(\"Hello world\")    #   loop end then run else in Hello world"
   ]
  },
  {
   "cell_type": "markdown",
   "id": "d4ec2b6c",
   "metadata": {},
   "source": [
    "### Break "
   ]
  },
  {
   "cell_type": "code",
   "execution_count": 38,
   "id": "e294deda",
   "metadata": {},
   "outputs": [
    {
     "name": "stdout",
     "output_type": "stream",
     "text": [
      "Sir Zia\n"
     ]
    }
   ],
   "source": [
    "# Lets Learn code of for loop\n",
    "\n",
    "names:list[str] = ['Sir Zia', \"Muhammad Qasim\", \"DR Noman\"]\n",
    "\n",
    "for name in names:          #   1st time run for first value 'Sir Zia' it take and print, there is a break command\n",
    "    print(name)             #   Here break will not give permit to run more,\n",
    "    break                   #   Here else is also a part of for loop in this case it will not run.\n",
    "else:                       #   break will through exit for else body \n",
    "    print(\"Hello world\")    #"
   ]
  },
  {
   "cell_type": "code",
   "execution_count": null,
   "id": "97788c70",
   "metadata": {},
   "outputs": [],
   "source": [
    "# Here else is not present and every time we should know indentation or alignment of code.\n",
    "names:list[str] = ['Sir Zia', \"Muhammad Qasim\", \"DR Noman\"]\n",
    "\n",
    "for name in names:          #   1st time run for first value 'Sir Zia' it take and print there is another in list True\n",
    "    print(name)             #   2nd              second value 'Muhammad Qasim'                                    True           \n",
    "    break                   #   3rd              third value  'DR Noman'                                          False\n",
    "                            #   Loop end \n",
    "print(\"Hello world\")        #   finally print Hello world"
   ]
  },
  {
   "cell_type": "markdown",
   "id": "53fb548f",
   "metadata": {},
   "source": [
    "## Indentation is necessory \n",
    "after for loop, while loop, if condition and etc, indentation is necessory, mainly 1 tab in start ot its perent"
   ]
  },
  {
   "cell_type": "code",
   "execution_count": null,
   "id": "e2cb17f9",
   "metadata": {},
   "outputs": [],
   "source": [
    "# With indentation\n",
    "for name in names:\n",
    "    print(name)\n",
    "   \n",
    "print(\"Hello world\")"
   ]
  },
  {
   "cell_type": "code",
   "execution_count": 39,
   "id": "f1118da1",
   "metadata": {},
   "outputs": [
    {
     "ename": "IndentationError",
     "evalue": "expected an indented block after 'for' statement on line 2 (3004374152.py, line 3)",
     "output_type": "error",
     "traceback": [
      "\u001b[1;36m  Cell \u001b[1;32mIn[39], line 3\u001b[1;36m\u001b[0m\n\u001b[1;33m    print(name)\u001b[0m\n\u001b[1;37m    ^\u001b[0m\n\u001b[1;31mIndentationError\u001b[0m\u001b[1;31m:\u001b[0m expected an indented block after 'for' statement on line 2\n"
     ]
    }
   ],
   "source": [
    "# Without indentation\n",
    "for name in names:\n",
    "print(name)\n",
    "    \n",
    "print(\"Hello world\")"
   ]
  },
  {
   "cell_type": "code",
   "execution_count": 40,
   "id": "fb47357c",
   "metadata": {},
   "outputs": [
    {
     "ename": "SyntaxError",
     "evalue": "expected ':' (2516002334.py, line 3)",
     "output_type": "error",
     "traceback": [
      "\u001b[1;36m  Cell \u001b[1;32mIn[40], line 3\u001b[1;36m\u001b[0m\n\u001b[1;33m    for name in names         #  : is missing at the end of for loop\u001b[0m\n\u001b[1;37m                              ^\u001b[0m\n\u001b[1;31mSyntaxError\u001b[0m\u001b[1;31m:\u001b[0m expected ':'\n"
     ]
    }
   ],
   "source": [
    "# Without indentation colun is missing\n",
    "# error will be unexpected indent\n",
    "for name in names         #  : is missing at the end of for loop \n",
    "    print(name)           #     SyntaxError: expected ':'\n",
    "   \n",
    "print(\"Hello world\")"
   ]
  },
  {
   "cell_type": "code",
   "execution_count": 41,
   "id": "8d1d3ed8",
   "metadata": {},
   "outputs": [
    {
     "ename": "IndentationError",
     "evalue": "unexpected indent (3764526212.py, line 3)",
     "output_type": "error",
     "traceback": [
      "\u001b[1;36m  Cell \u001b[1;32mIn[41], line 3\u001b[1;36m\u001b[0m\n\u001b[1;33m    print(message)              # here are Extra spaces\u001b[0m\n\u001b[1;37m    ^\u001b[0m\n\u001b[1;31mIndentationError\u001b[0m\u001b[1;31m:\u001b[0m unexpected indent\n"
     ]
    }
   ],
   "source": [
    "# additional indentation is not allowed\n",
    "message = \"Hello Python world!\" \n",
    "    print(message)              # here are Extra spaces "
   ]
  },
  {
   "cell_type": "code",
   "execution_count": null,
   "id": "f4acd84a",
   "metadata": {},
   "outputs": [],
   "source": [
    "# Lets do some excersice with name it will revoice lessons\n",
    "magicians = ['alice', 'david', 'carolina']\n",
    "for magician in magicians:\n",
    "    print(f\"{magician.title()}, that was a great trick!\")\n",
    "    print(f\"I can't wait to see your next trick, {magician.title()}.\\n\")\n",
    "    \n",
    "print(\"Thank you everyone, that was a great magic show!\")# last message for everyone"
   ]
  },
  {
   "cell_type": "code",
   "execution_count": 44,
   "id": "11376ade",
   "metadata": {},
   "outputs": [
    {
     "data": {
      "text/plain": [
       "[(0, 'alice'), (1, 'david'), (2, 'carolina')]"
      ]
     },
     "execution_count": 44,
     "metadata": {},
     "output_type": "execute_result"
    }
   ],
   "source": [
    "#              0        1         2\n",
    "magicians = ['alice', 'david', 'carolina']\n",
    "\n",
    "list(enumerate(magicians)) # it give us a list and in it , a tuple, and pairs of (index number , value),"
   ]
  },
  {
   "cell_type": "code",
   "execution_count": null,
   "id": "727379c8",
   "metadata": {},
   "outputs": [],
   "source": [
    "# lets expolare index num , value in \n",
    "#              0        1         2\n",
    "magicians = ['alice', 'david', 'carolina']\n",
    "\n",
    "for index, name in enumerate(magicians):\n",
    "    print(index, name)"
   ]
  },
  {
   "cell_type": "markdown",
   "id": "dbe07ab1",
   "metadata": {},
   "source": [
    "## Numbers with loop\n",
    "* range(start,end,step)"
   ]
  },
  {
   "cell_type": "code",
   "execution_count": 45,
   "id": "2c57610b",
   "metadata": {},
   "outputs": [
    {
     "data": {
      "text/plain": [
       "range(0, 10)"
      ]
     },
     "execution_count": 45,
     "metadata": {},
     "output_type": "execute_result"
    }
   ],
   "source": [
    "range(10)"
   ]
  },
  {
   "cell_type": "code",
   "execution_count": 46,
   "id": "f2f6c1f2",
   "metadata": {},
   "outputs": [
    {
     "data": {
      "text/plain": [
       "[0, 1, 2, 3, 4, 5, 6, 7, 8, 9]"
      ]
     },
     "execution_count": 46,
     "metadata": {},
     "output_type": "execute_result"
    }
   ],
   "source": [
    "# full Series\n",
    "list(range(10))# starting=0, ending = n-1 = 9"
   ]
  },
  {
   "cell_type": "code",
   "execution_count": 47,
   "id": "37f2680e",
   "metadata": {},
   "outputs": [
    {
     "data": {
      "text/plain": [
       "[3, 4, 5, 6, 7, 8, 9]"
      ]
     },
     "execution_count": 47,
     "metadata": {},
     "output_type": "execute_result"
    }
   ],
   "source": [
    "# Defining mid point\n",
    "list(range(3,10))# starting=3, ending = n-1 = 9"
   ]
  },
  {
   "cell_type": "code",
   "execution_count": 48,
   "id": "682ebfbd",
   "metadata": {},
   "outputs": [
    {
     "data": {
      "text/plain": [
       "[2, 4, 6, 8, 10, 12, 14, 16, 18, 20]"
      ]
     },
     "execution_count": 48,
     "metadata": {},
     "output_type": "execute_result"
    }
   ],
   "source": [
    "list(range(2,21,2))# starting=2, ending = n-1 21-1=20, step 2 mean it will leave 1 value"
   ]
  },
  {
   "cell_type": "code",
   "execution_count": 49,
   "id": "d2df220c",
   "metadata": {},
   "outputs": [
    {
     "name": "stdout",
     "output_type": "stream",
     "text": [
      "1\n",
      "2\n",
      "3\n",
      "4\n",
      "5\n",
      "6\n",
      "7\n",
      "8\n",
      "9\n",
      "10\n"
     ]
    }
   ],
   "source": [
    "for n in range(1,11): # Using for loop, can we print any table lets see\n",
    "    print(n)"
   ]
  },
  {
   "cell_type": "code",
   "execution_count": 55,
   "id": "c3f7ca75",
   "metadata": {},
   "outputs": [
    {
     "name": "stdout",
     "output_type": "stream",
     "text": [
      "2 X 1 = 2\n",
      "2 X 2 = 4\n",
      "2 X 3 = 6\n",
      "2 X 4 = 8\n",
      "2 X 5 = 10\n",
      "2 X 6 = 12\n",
      "2 X 7 = 14\n",
      "2 X 8 = 16\n",
      "2 X 9 = 18\n",
      "2 X 10 = 20\n"
     ]
    }
   ],
   "source": [
    "tablenum = input('enter table number') # here taking input in run time in number, but the value is str type\n",
    "for n in range(1,11):\n",
    "    print(f\"{tablenum} X {n} = {int(tablenum)*n}\")      # here we are mainly int(tablenum) is using to convert str to int"
   ]
  },
  {
   "cell_type": "code",
   "execution_count": 59,
   "id": "748dafa9",
   "metadata": {},
   "outputs": [
    {
     "name": "stdout",
     "output_type": "stream",
     "text": [
      "[1, 4, 9, 16, 25, 36, 49, 64, 81, 100]\n"
     ]
    }
   ],
   "source": [
    "# here all we read but slowly we are going in advance \n",
    "squares:list[int] = []      # list\n",
    "for value in range(1, 11):  # for loop 1 to 10\n",
    "    square = value ** 2     # local variable square taking value of square\n",
    "    squares.append(square)  # append we use for add in list at last\n",
    "print(squares)              # it is out indentation after completing loop print squares vaiable"
   ]
  },
  {
   "cell_type": "code",
   "execution_count": 61,
   "id": "eddae9bb",
   "metadata": {},
   "outputs": [
    {
     "data": {
      "text/plain": [
       "'line3'"
      ]
     },
     "execution_count": 61,
     "metadata": {},
     "output_type": "execute_result"
    }
   ],
   "source": [
    "'line1'          # see this code \n",
    "'line2'          # there is no special\n",
    "'line3'          # only it we are not printing it but last one in print"
   ]
  },
  {
   "cell_type": "markdown",
   "id": "8f2b0c2e",
   "metadata": {},
   "source": [
    "# List comprehensive\n",
    "*   for item in items_list:\n",
    "    *   loop_body\n",
    "## Comprehensive Style\n",
    "* [loop_body for item in items_list]"
   ]
  },
  {
   "cell_type": "code",
   "execution_count": 62,
   "id": "1afbbe4d",
   "metadata": {},
   "outputs": [
    {
     "name": "stdout",
     "output_type": "stream",
     "text": [
      "1\n",
      "4\n",
      "9\n",
      "16\n",
      "25\n",
      "36\n",
      "49\n",
      "64\n",
      "81\n",
      "100\n"
     ]
    }
   ],
   "source": [
    "# here an example \n",
    "for i in range(1,11):\n",
    "    print(i**2)\n",
    "# in next code will define it, how to write in comperhensive style mean short to the point style"
   ]
  },
  {
   "cell_type": "code",
   "execution_count": 64,
   "id": "8b406a70",
   "metadata": {},
   "outputs": [
    {
     "data": {
      "text/plain": [
       "[1, 4, 9, 16, 25, 36, 49, 64, 81, 100]"
      ]
     },
     "execution_count": 64,
     "metadata": {},
     "output_type": "execute_result"
    }
   ],
   "source": [
    "# list comprehensive Style\n",
    "[i**2 for i in range(1,11)]"
   ]
  },
  {
   "cell_type": "code",
   "execution_count": 65,
   "id": "413c97b5",
   "metadata": {},
   "outputs": [
    {
     "name": "stdout",
     "output_type": "stream",
     "text": [
      "[1, 2, 3, 4, 5, 6, 7, 8, 9, 0]\n",
      "9\n",
      "0\n",
      "45\n"
     ]
    }
   ],
   "source": [
    "# Lets try some int methods\n",
    "digits:list[int] = [1, 2, 3, 4, 5, 6, 7, 8, 9, 0]\n",
    "\n",
    "print(digits)           # to print\n",
    "print(max(digits))      # to print a maximun number in list\n",
    "print(min(digits))      # to print a manimun number in list\n",
    "print(sum(digits))      # to print sum of list values"
   ]
  },
  {
   "cell_type": "code",
   "execution_count": null,
   "id": "22551344",
   "metadata": {},
   "outputs": [],
   "source": [
    "my_foods = ['pizza', 'falafel', 'carrot cake'] \n",
    "friend_foods = my_foods[:] # deep copy\n",
    "\n",
    "print(my_foods)\n",
    "print(friend_foods)\n",
    "\n",
    "friend_foods[0] = \"Tikka\"\n",
    "\n",
    "print(my_foods)\n",
    "print(friend_foods)"
   ]
  },
  {
   "cell_type": "markdown",
   "id": "77d4e581",
   "metadata": {},
   "source": [
    "# Tuple"
   ]
  },
  {
   "cell_type": "code",
   "execution_count": 66,
   "id": "9f4c3107",
   "metadata": {},
   "outputs": [
    {
     "name": "stdout",
     "output_type": "stream",
     "text": [
      "A\n",
      "('A', 'B')\n"
     ]
    }
   ],
   "source": [
    "names:tuple[str] = ('A',\"B\",'C')\n",
    "print(names[0])\n",
    "print(names[0:2])"
   ]
  },
  {
   "cell_type": "code",
   "execution_count": null,
   "id": "4666ed70",
   "metadata": {},
   "outputs": [],
   "source": [
    "names:tuple[str] = ('A',\"B\",'C')\n",
    "\n",
    "names[0] = \"Pakistan\"\n",
    "# tuple can not be change "
   ]
  },
  {
   "cell_type": "code",
   "execution_count": null,
   "id": "fa596a43",
   "metadata": {},
   "outputs": [],
   "source": [
    "names:tuple[str] = ('A',\"B\",'C')        # A Tuple\n",
    "\n",
    "names:tuple[str] = ('Pakistan',\"B\",'C')    # reassigning Tuple \n",
    "\n",
    "print(names)"
   ]
  },
  {
   "cell_type": "code",
   "execution_count": 70,
   "id": "96fda59c",
   "metadata": {},
   "outputs": [
    {
     "name": "stdout",
     "output_type": "stream",
     "text": [
      "('A', [1, 2, 3], True)\n"
     ]
    }
   ],
   "source": [
    "# Here a some advance Topic\n",
    "# A Tuple is here and we are printing it\n",
    "from typing import Any\n",
    "data : tuple[Any] = (\"A\",[1,2,3], True)\n",
    "\n",
    "print(data)\n",
    "# see this we will change in next"
   ]
  },
  {
   "cell_type": "code",
   "execution_count": 75,
   "id": "dd0daddf",
   "metadata": {},
   "outputs": [
    {
     "name": "stdout",
     "output_type": "stream",
     "text": [
      "[1, 2, 3]\n",
      "('A', [1, 2, 3, 20], True)\n"
     ]
    }
   ],
   "source": [
    "data : tuple[Any] = (\"A\",[1,2,3], True)\n",
    "\n",
    "print(data[1])\n",
    "data[1].append(20)   # actually we are adding in list which is in tuple \n",
    "print(data)"
   ]
  },
  {
   "cell_type": "code",
   "execution_count": 76,
   "id": "6fc7d592",
   "metadata": {},
   "outputs": [
    {
     "data": {
      "text/plain": [
       "[1, 3, 7, 8]"
      ]
     },
     "execution_count": 76,
     "metadata": {},
     "output_type": "execute_result"
    }
   ],
   "source": [
    "sorted([7,8,1,3])   # sorted is perdifine function"
   ]
  }
 ],
 "metadata": {
  "kernelspec": {
   "display_name": "Python 3 (ipykernel)",
   "language": "python",
   "name": "python3"
  },
  "language_info": {
   "codemirror_mode": {
    "name": "ipython",
    "version": 3
   },
   "file_extension": ".py",
   "mimetype": "text/x-python",
   "name": "python",
   "nbconvert_exporter": "python",
   "pygments_lexer": "ipython3",
   "version": "3.12.0"
  }
 },
 "nbformat": 4,
 "nbformat_minor": 5
}
