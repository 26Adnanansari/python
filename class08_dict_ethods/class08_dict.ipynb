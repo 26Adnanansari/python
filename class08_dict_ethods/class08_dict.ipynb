{
 "cells": [
  {
   "cell_type": "markdown",
   "metadata": {},
   "source": [
    "# Dict Methods\n",
    "in this class we will learn about Dict methods"
   ]
  },
  {
   "cell_type": "markdown",
   "metadata": {},
   "source": [
    "### .clear()\n",
    "This method will remove all data from dictionary means all KEY and VALUES will remove only black object will remains.\n",
    "Lets see Example"
   ]
  },
  {
   "cell_type": "code",
   "execution_count": 13,
   "metadata": {},
   "outputs": [
    {
     "name": "stdout",
     "output_type": "stream",
     "text": [
      "['clear', 'copy', 'fromkeys', 'get', 'items', 'keys', 'pop', 'popitem', 'setdefault', 'update', 'values']\n",
      "(\"before apply method {'name': 'M. Adnan Ansari', 'fname': 'M.Shaifque \"\n",
      " \"Ansari', 'Profession': 'TypeScript, Modren Python(pydentic), NextJs, \"\n",
      " \"Backend, App Programming ', 'Intersted In': 'Web 3.0 , Advance App \"\n",
      " \"Programming, GenAi, BlockChain,'}\")\n",
      "'After apply method {}'\n"
     ]
    }
   ],
   "source": [
    "import pprint\n",
    "from turtle import clear\n",
    "from typing import Dict, Union\n",
    "\n",
    "Key = Union[str,int]\n",
    "Value = Union [int,str,list,dict,tuple,set]\n",
    "\n",
    "data : Dict [Key,Value] = {\n",
    "                           \"name\":\"M. Adnan Ansari\",\n",
    "                           \"fname\":\"M.Shaifque Ansari\",\n",
    "                           \"Profession\":\"TypeScript, Modren Python(pydentic), NextJs, Backend, App Programming \",\n",
    "                           \"Intersted In\": \"Web 3.0 , Advance App Programming, GenAi, BlockChain,\"\n",
    "                          }\n",
    "dict_method : list[str] = [m for m in dir(data) if \"__\" not in m]\n",
    "print(dict_method)\n",
    "\n",
    "# Method 1 clear \n",
    "# First we print data and see it result\n",
    "pprint.pprint(f\"before apply method {data}\")\n",
    "\n",
    "\n",
    "# After apply clear method print data and see it result\n",
    "data.clear()\n",
    "pprint.pprint(f\"After apply method {data}\")"
   ]
  },
  {
   "cell_type": "markdown",
   "metadata": {},
   "source": [
    "### .copy()\n",
    "This will make a copy of Dictionary in onther variable"
   ]
  },
  {
   "cell_type": "code",
   "execution_count": 14,
   "metadata": {},
   "outputs": [
    {
     "name": "stdout",
     "output_type": "stream",
     "text": [
      "['clear', 'copy', 'fromkeys', 'get', 'items', 'keys', 'pop', 'popitem', 'setdefault', 'update', 'values']\n",
      "(\"before apply method {'name': 'M. Adnan Ansari', 'fname': 'M.Shaifque \"\n",
      " \"Ansari', 'Profession': 'TypeScript, Modren Python(pydentic), NextJs, \"\n",
      " \"Backend, App Programming ', 'Intersted In': 'Web 3.0 , Advance App \"\n",
      " \"Programming, GenAi, BlockChain,'}\")\n",
      "(\"After apply method {'name': 'M. Adnan Ansari', 'fname': 'M.Shaifque Ansari', \"\n",
      " \"'Profession': 'TypeScript, Modren Python(pydentic), NextJs, Backend, App \"\n",
      " \"Programming ', 'Intersted In': 'Web 3.0 , Advance App Programming, GenAi, \"\n",
      " \"BlockChain,'}\")\n"
     ]
    }
   ],
   "source": [
    "import pprint\n",
    "from turtle import clear\n",
    "from typing import Dict, Union\n",
    "\n",
    "Key = Union[str,int]\n",
    "Value = Union [int,str,list,dict,tuple,set]\n",
    "\n",
    "data : Dict [Key,Value] = {\n",
    "                           \"name\":\"M. Adnan Ansari\",\n",
    "                           \"fname\":\"M.Shaifque Ansari\",\n",
    "                           \"Profession\":\"TypeScript, Modren Python(pydentic), NextJs, Backend, App Programming \",\n",
    "                           \"Intersted In\": \"Web 3.0 , Advance App Programming, GenAi, BlockChain,\"\n",
    "                          }\n",
    "dict_method : list[str] = [m for m in dir(data) if \"__\" not in m]\n",
    "print(dict_method)\n",
    "\n",
    "# Method 1 clear \n",
    "# First we print data and see it result\n",
    "pprint.pprint(f\"before apply method {data}\")\n",
    "\n",
    "\n",
    "# After apply clear method print data and see it result\n",
    "copydata = data.copy()\n",
    "pprint.pprint(f\"After apply method {copydata}\")"
   ]
  },
  {
   "cell_type": "markdown",
   "metadata": {},
   "source": [
    "### fromkeys()\n",
    "The fromkeys() method in Python is a dictionary method that creates a new dictionary with keys from a given iterable and assigns them a specified value. It takes two arguments:\n",
    "\n",
    "    Iterable: It is used to create keys of the dictionary.\n",
    "    Value (optional): It is used to assign a value to each key. If not specified, it defaults to None."
   ]
  },
  {
   "cell_type": "code",
   "execution_count": 19,
   "metadata": {},
   "outputs": [
    {
     "name": "stdout",
     "output_type": "stream",
     "text": [
      "['clear', 'copy', 'fromkeys', 'get', 'items', 'keys', 'pop', 'popitem', 'setdefault', 'update', 'values']\n",
      "(\"before apply method {'name': 'M. Adnan Ansari', 'fname': 'M.Shaifque \"\n",
      " \"Ansari', 'Profession': 'TypeScript, Modren Python(pydentic), NextJs, \"\n",
      " \"Backend, App Programming ', 'Intersted In': 'Web 3.0 , Advance App \"\n",
      " \"Programming, GenAi, BlockChain,'}\")\n",
      "(\"After apply method {'name': 10, 'fname': 10, 'Profession': 10, 'Intersted \"\n",
      " \"In': 10}\")\n"
     ]
    }
   ],
   "source": [
    "import pprint\n",
    "from turtle import clear\n",
    "from typing import Dict, Union\n",
    "\n",
    "Key = Union[str,int]\n",
    "Value = Union [int,str,list,dict,tuple,set]\n",
    "\n",
    "data : Dict [Key,Value] = {\n",
    "                           \"name\":\"M. Adnan Ansari\",\n",
    "                           \"fname\":\"M.Shaifque Ansari\",\n",
    "                           \"Profession\":\"TypeScript, Modren Python(pydentic), NextJs, Backend, App Programming \",\n",
    "                           \"Intersted In\": \"Web 3.0 , Advance App Programming, GenAi, BlockChain,\"\n",
    "                          }\n",
    "\n",
    "\n",
    "dict_method : list[str] = [m for m in dir(data) if \"__\" not in m]\n",
    "print(dict_method)\n",
    "\n",
    "# Method 1 clear \n",
    "# First we print data and see it result\n",
    "pprint.pprint(f\"before apply method {data}\")\n",
    "\n",
    "\n",
    "# After apply clear method print data and see it result\n",
    "copydata = data.fromkeys(data,10)\n",
    "pprint.pprint(f\"After apply method {copydata}\")\n",
    "\n",
    "\n"
   ]
  },
  {
   "cell_type": "markdown",
   "metadata": {},
   "source": [
    "### .get() \n",
    "This method retrieves a value for a given key in a dictionary. If the key doesn't exist, it returns a default value (default is None)."
   ]
  },
  {
   "cell_type": "code",
   "execution_count": 24,
   "metadata": {},
   "outputs": [
    {
     "name": "stdout",
     "output_type": "stream",
     "text": [
      "['clear', 'copy', 'fromkeys', 'get', 'items', 'keys', 'pop', 'popitem', 'setdefault', 'update', 'values']\n",
      "(\"before apply method  : {'name': 'M. Adnan Ansari', 'fname': 'M.Shaifque \"\n",
      " \"Ansari', 'Profession': 'TypeScript, Modren Python(pydentic), NextJs, \"\n",
      " \"Backend, App Programming ', 'Intersted In': 'Web 3.0 , Advance App \"\n",
      " \"Programming, GenAi, BlockChain,'}\")\n",
      "'After apply method   :   This is not available'\n",
      "'After apply method   :   M. Adnan Ansari'\n"
     ]
    }
   ],
   "source": [
    "import pprint\n",
    "from turtle import clear\n",
    "from typing import Dict, Union\n",
    "\n",
    "Key = Union[str,int]\n",
    "Value = Union [int,str,list,dict,tuple,set]\n",
    "\n",
    "data : Dict [Key,Value] = {\n",
    "                           \"name\":\"M. Adnan Ansari\",\n",
    "                           \"fname\":\"M.Shaifque Ansari\",\n",
    "                           \"Profession\":\"TypeScript, Modren Python(pydentic), NextJs, Backend, App Programming \",\n",
    "                           \"Intersted In\": \"Web 3.0 , Advance App Programming, GenAi, BlockChain,\"\n",
    "                          }\n",
    "\n",
    "\n",
    "dict_method : list[str] = [m for m in dir(data) if \"__\" not in m]\n",
    "print(dict_method)\n",
    "\n",
    "# Method 1 clear \n",
    "# First we print data and see it result\n",
    "pprint.pprint(f\"before apply method  : {data}\")\n",
    "\n",
    "\n",
    "# After apply clear method print data and see it result\n",
    "# .get search for key Pakistan which is not available it will give error \n",
    "#                       Key            Custom Error\n",
    "copydata = data.get(\"Pakistan\",\"This is not available\")\n",
    "pprint.pprint(f\"After apply method   :   {copydata}\")\n",
    "\n",
    "\n",
    "copydata = data.get(\"name\",\"This is not available\")\n",
    "pprint.pprint(f\"After apply method   :   {copydata}\")\n"
   ]
  },
  {
   "cell_type": "markdown",
   "metadata": {},
   "source": [
    "### .items() \n",
    "in Python is a method used with dictionaries to return a view object that displays a list of a dictionary's key-value pairs as tuples."
   ]
  },
  {
   "cell_type": "code",
   "execution_count": 27,
   "metadata": {},
   "outputs": [
    {
     "name": "stdout",
     "output_type": "stream",
     "text": [
      "['clear', 'copy', 'fromkeys', 'get', 'items', 'keys', 'pop', 'popitem', 'setdefault', 'update', 'values']\n",
      "(\"before apply method  : {'name': 'M. Adnan Ansari', 'fname': 'M.Shaifque \"\n",
      " \"Ansari', 'Profession': 'TypeScript, Modren Python(pydentic), NextJs, \"\n",
      " \"Backend, App Programming ', 'Intersted In': 'Web 3.0 , Advance App \"\n",
      " \"Programming, GenAi, BlockChain,'}\")\n",
      "(\"After apply method   :   dict_items([('name', 'M. Adnan Ansari'), ('fname', \"\n",
      " \"'M.Shaifque Ansari'), ('Profession', 'TypeScript, Modren Python(pydentic), \"\n",
      " \"NextJs, Backend, App Programming '), ('Intersted In', 'Web 3.0 , Advance App \"\n",
      " \"Programming, GenAi, BlockChain,')])\")\n"
     ]
    }
   ],
   "source": [
    "import pprint\n",
    "from turtle import clear\n",
    "from typing import Dict, Union\n",
    "\n",
    "Key = Union[str,int]\n",
    "Value = Union [int,str,list,dict,tuple,set]\n",
    "\n",
    "data : Dict [Key,Value] = {\n",
    "                           \"name\":\"M. Adnan Ansari\",\n",
    "                           \"fname\":\"M.Shaifque Ansari\",\n",
    "                           \"Profession\":\"TypeScript, Modren Python(pydentic), NextJs, Backend, App Programming \",\n",
    "                           \"Intersted In\": \"Web 3.0 , Advance App Programming, GenAi, BlockChain,\"\n",
    "                          }\n",
    "\n",
    "\n",
    "dict_method : list[str] = [m for m in dir(data) if \"__\" not in m]\n",
    "print(dict_method)\n",
    "\n",
    "# Method 1 clear \n",
    "# First we print data and see it result\n",
    "pprint.pprint(f\"before apply method  : {data}\")\n",
    "\n",
    "\n",
    "# After apply clear method print data and see it result\n",
    "# .get search for key Pakistan which is not available it will give error \n",
    "#                       Key            Custom Error\n",
    "copydata = data.items()\n",
    "pprint.pprint(f\"After apply method   :   {copydata}\")\n",
    "\n",
    "\n",
    "\n"
   ]
  },
  {
   "cell_type": "markdown",
   "metadata": {},
   "source": [
    "### .keys()\n",
    "give us all keys form a dictionary"
   ]
  },
  {
   "cell_type": "code",
   "execution_count": 28,
   "metadata": {},
   "outputs": [
    {
     "name": "stdout",
     "output_type": "stream",
     "text": [
      "['clear', 'copy', 'fromkeys', 'get', 'items', 'keys', 'pop', 'popitem', 'setdefault', 'update', 'values']\n",
      "(\"before apply method  : {'name': 'M. Adnan Ansari', 'fname': 'M.Shaifque \"\n",
      " \"Ansari', 'Profession': 'TypeScript, Modren Python(pydentic), NextJs, \"\n",
      " \"Backend, App Programming ', 'Intersted In': 'Web 3.0 , Advance App \"\n",
      " \"Programming, GenAi, BlockChain,'}\")\n",
      "(\"After apply method   :   dict_keys(['name', 'fname', 'Profession', \"\n",
      " \"'Intersted In'])\")\n"
     ]
    }
   ],
   "source": [
    "import pprint\n",
    "from turtle import clear\n",
    "from typing import Dict, Union\n",
    "\n",
    "Key = Union[str,int]\n",
    "Value = Union [int,str,list,dict,tuple,set]\n",
    "\n",
    "data : Dict [Key,Value] = {\n",
    "                           \"name\":\"M. Adnan Ansari\",\n",
    "                           \"fname\":\"M.Shaifque Ansari\",\n",
    "                           \"Profession\":\"TypeScript, Modren Python(pydentic), NextJs, Backend, App Programming \",\n",
    "                           \"Intersted In\": \"Web 3.0 , Advance App Programming, GenAi, BlockChain,\"\n",
    "                          }\n",
    "\n",
    "\n",
    "dict_method : list[str] = [m for m in dir(data) if \"__\" not in m]\n",
    "print(dict_method)\n",
    "\n",
    "# Method 1 clear \n",
    "# First we print data and see it result\n",
    "pprint.pprint(f\"before apply method  : {data}\")\n",
    "\n",
    "\n",
    "# After apply clear method print data and see it result\n",
    "# .get search for key Pakistan which is not available it will give error \n",
    "#                       Key            Custom Error\n",
    "copydata = data.keys()\n",
    "pprint.pprint(f\"After apply method   :   {copydata}\")\n",
    "\n",
    "\n",
    "\n"
   ]
  },
  {
   "cell_type": "markdown",
   "metadata": {},
   "source": [
    "### .values() \n",
    "in Python is a method used with dictionaries to return a view object that displays a list of all the values in the dictionary."
   ]
  },
  {
   "cell_type": "code",
   "execution_count": 29,
   "metadata": {},
   "outputs": [
    {
     "name": "stdout",
     "output_type": "stream",
     "text": [
      "['clear', 'copy', 'fromkeys', 'get', 'items', 'keys', 'pop', 'popitem', 'setdefault', 'update', 'values']\n",
      "(\"before apply method  : {'name': 'M. Adnan Ansari', 'fname': 'M.Shaifque \"\n",
      " \"Ansari', 'Profession': 'TypeScript, Modren Python(pydentic), NextJs, \"\n",
      " \"Backend, App Programming ', 'Intersted In': 'Web 3.0 , Advance App \"\n",
      " \"Programming, GenAi, BlockChain,'}\")\n",
      "(\"After apply method   :   dict_values(['M. Adnan Ansari', 'M.Shaifque \"\n",
      " \"Ansari', 'TypeScript, Modren Python(pydentic), NextJs, Backend, App \"\n",
      " \"Programming ', 'Web 3.0 , Advance App Programming, GenAi, BlockChain,'])\")\n"
     ]
    }
   ],
   "source": [
    "import pprint\n",
    "from turtle import clear\n",
    "from typing import Dict, Union\n",
    "\n",
    "Key = Union[str,int]\n",
    "Value = Union [int,str,list,dict,tuple,set]\n",
    "\n",
    "data : Dict [Key,Value] = {\n",
    "                           \"name\":\"M. Adnan Ansari\",\n",
    "                           \"fname\":\"M.Shaifque Ansari\",\n",
    "                           \"Profession\":\"TypeScript, Modren Python(pydentic), NextJs, Backend, App Programming \",\n",
    "                           \"Intersted In\": \"Web 3.0 , Advance App Programming, GenAi, BlockChain,\"\n",
    "                          }\n",
    "\n",
    "\n",
    "dict_method : list[str] = [m for m in dir(data) if \"__\" not in m]\n",
    "print(dict_method)\n",
    "\n",
    "# Method 1 clear \n",
    "# First we print data and see it result\n",
    "pprint.pprint(f\"before apply method  : {data}\")\n",
    "\n",
    "\n",
    "# After apply clear method print data and see it result\n",
    "# .get search for key Pakistan which is not available it will give error \n",
    "#                       Key            Custom Error\n",
    "copydata = data.values()\n",
    "pprint.pprint(f\"After apply method   :   {copydata}\")\n",
    "\n",
    "\n",
    "\n"
   ]
  },
  {
   "cell_type": "markdown",
   "metadata": {},
   "source": [
    "### .items() \n",
    "in Python is a method used with dictionaries to retrieve a view object that represents a list of tuples, each tuple containing a key-value pair from the dictionary."
   ]
  },
  {
   "cell_type": "code",
   "execution_count": 30,
   "metadata": {},
   "outputs": [
    {
     "name": "stdout",
     "output_type": "stream",
     "text": [
      "['clear', 'copy', 'fromkeys', 'get', 'items', 'keys', 'pop', 'popitem', 'setdefault', 'update', 'values']\n",
      "(\"before apply method  : {'name': 'M. Adnan Ansari', 'fname': 'M.Shaifque \"\n",
      " \"Ansari', 'Profession': 'TypeScript, Modren Python(pydentic), NextJs, \"\n",
      " \"Backend, App Programming ', 'Intersted In': 'Web 3.0 , Advance App \"\n",
      " \"Programming, GenAi, BlockChain,'}\")\n",
      "(\"After apply method   :   dict_items([('name', 'M. Adnan Ansari'), ('fname', \"\n",
      " \"'M.Shaifque Ansari'), ('Profession', 'TypeScript, Modren Python(pydentic), \"\n",
      " \"NextJs, Backend, App Programming '), ('Intersted In', 'Web 3.0 , Advance App \"\n",
      " \"Programming, GenAi, BlockChain,')])\")\n"
     ]
    }
   ],
   "source": [
    "import pprint\n",
    "from turtle import clear\n",
    "from typing import Dict, Union\n",
    "\n",
    "Key = Union[str,int]\n",
    "Value = Union [int,str,list,dict,tuple,set]\n",
    "\n",
    "data : Dict [Key,Value] = {\n",
    "                           \"name\":\"M. Adnan Ansari\",\n",
    "                           \"fname\":\"M.Shaifque Ansari\",\n",
    "                           \"Profession\":\"TypeScript, Modren Python(pydentic), NextJs, Backend, App Programming \",\n",
    "                           \"Intersted In\": \"Web 3.0 , Advance App Programming, GenAi, BlockChain,\"\n",
    "                          }\n",
    "\n",
    "\n",
    "dict_method : list[str] = [m for m in dir(data) if \"__\" not in m]\n",
    "print(dict_method)\n",
    "\n",
    "# Method 1 clear \n",
    "# First we print data and see it result\n",
    "pprint.pprint(f\"before apply method  : {data}\")\n",
    "\n",
    "\n",
    "# After apply clear method print data and see it result\n",
    "# .get search for key Pakistan which is not available it will give error \n",
    "#                       Key            Custom Error\n",
    "copydata = data.items()\n",
    "pprint.pprint(f\"After apply method   :   {copydata}\")\n"
   ]
  },
  {
   "cell_type": "markdown",
   "metadata": {},
   "source": [
    "### .pop() \n",
    "method in Python removes and returns the value associated with a specified key from a dictionary.\n",
    "*   key: The key whose value needs to be removed and returned.\n",
    "*   default (optional): The default value to return if the key is not found. If not specified, it raises a KeyError."
   ]
  },
  {
   "cell_type": "code",
   "execution_count": 33,
   "metadata": {},
   "outputs": [
    {
     "name": "stdout",
     "output_type": "stream",
     "text": [
      "['clear', 'copy', 'fromkeys', 'get', 'items', 'keys', 'pop', 'popitem', 'setdefault', 'update', 'values']\n",
      "(\"before apply method  : {'name': 'M. Adnan Ansari', 'fname': 'M.Shaifque \"\n",
      " \"Ansari', 'Profession': 'TypeScript, Modren Python(pydentic), NextJs, \"\n",
      " \"Backend, App Programming ', 'Intersted In': 'Web 3.0 , Advance App \"\n",
      " \"Programming, GenAi, BlockChain,'}\")\n",
      "{'Intersted In': 'Web 3.0 , Advance App Programming, GenAi, BlockChain,',\n",
      " 'Profession': 'TypeScript, Modren Python(pydentic), NextJs, Backend, App '\n",
      "               'Programming ',\n",
      " 'fname': 'M.Shaifque Ansari'}\n",
      "'After apply method   :   M. Adnan Ansari'\n"
     ]
    }
   ],
   "source": [
    "import pprint\n",
    "from turtle import clear\n",
    "from typing import Dict, Union\n",
    "\n",
    "Key = Union[str,int]\n",
    "Value = Union [int,str,list,dict,tuple,set]\n",
    "\n",
    "data : Dict [Key,Value] = {\n",
    "                           \"name\":\"M. Adnan Ansari\",\n",
    "                           \"fname\":\"M.Shaifque Ansari\",\n",
    "                           \"Profession\":\"TypeScript, Modren Python(pydentic), NextJs, Backend, App Programming \",\n",
    "                           \"Intersted In\": \"Web 3.0 , Advance App Programming, GenAi, BlockChain,\"\n",
    "                          }\n",
    "\n",
    "\n",
    "dict_method : list[str] = [m for m in dir(data) if \"__\" not in m]\n",
    "print(dict_method)\n",
    "\n",
    "# Method 1 clear \n",
    "# First we print data and see it result\n",
    "pprint.pprint(f\"before apply method  : {data}\")\n",
    "\n",
    "\n",
    "# After apply clear method print data and see it result\n",
    "# .get search for key Pakistan which is not available it will give error \n",
    "#                       Key            Custom Error\n",
    "copydata = data.pop(\"name\")\n",
    "pprint.pprint(data)\n",
    "\n"
   ]
  },
  {
   "cell_type": "markdown",
   "metadata": {},
   "source": [
    "### .popitem() \n",
    "method in Python is used to remove and return an arbitrary key-value pair from a dictionary. It removes and returns the last key-value pair added to the dictionary."
   ]
  },
  {
   "cell_type": "code",
   "execution_count": 35,
   "metadata": {},
   "outputs": [
    {
     "name": "stdout",
     "output_type": "stream",
     "text": [
      "['clear', 'copy', 'fromkeys', 'get', 'items', 'keys', 'pop', 'popitem', 'setdefault', 'update', 'values']\n",
      "(\"before apply method  : {'name': 'M. Adnan Ansari', 'fname': 'M.Shaifque \"\n",
      " \"Ansari', 'Profession': 'TypeScript, Modren Python(pydentic), NextJs, \"\n",
      " \"Backend, App Programming ', 'Intersted In': 'Web 3.0 , Advance App \"\n",
      " \"Programming, GenAi, BlockChain,'}\")\n",
      "{'Profession': 'TypeScript, Modren Python(pydentic), NextJs, Backend, App '\n",
      "               'Programming ',\n",
      " 'fname': 'M.Shaifque Ansari',\n",
      " 'name': 'M. Adnan Ansari'}\n"
     ]
    }
   ],
   "source": [
    "import pprint\n",
    "from turtle import clear\n",
    "from typing import Dict, Union\n",
    "\n",
    "Key = Union[str,int]\n",
    "Value = Union [int,str,list,dict,tuple,set]\n",
    "\n",
    "data : Dict [Key,Value] = {\n",
    "                           \"name\":\"M. Adnan Ansari\",\n",
    "                           \"fname\":\"M.Shaifque Ansari\",\n",
    "                           \"Profession\":\"TypeScript, Modren Python(pydentic), NextJs, Backend, App Programming \",\n",
    "                           \"Intersted In\": \"Web 3.0 , Advance App Programming, GenAi, BlockChain,\"\n",
    "                          }\n",
    "\n",
    "\n",
    "dict_method : list[str] = [m for m in dir(data) if \"__\" not in m]\n",
    "print(dict_method)\n",
    "\n",
    "# Method 1 clear \n",
    "# First we print data and see it result\n",
    "pprint.pprint(f\"before apply method  : {data}\")\n",
    "\n",
    "\n",
    "# After apply clear method print data and see it result\n",
    "# .get search for key Pakistan which is not available it will give error \n",
    "#                       Key            Custom Error\n",
    "copydata = data.popitem()\n",
    "pprint.pprint(data)\n",
    "\n"
   ]
  },
  {
   "cell_type": "markdown",
   "metadata": {},
   "source": [
    "### .update() \n",
    "method in Python is used to update a dictionary with key-value pairs from another dictionary or an iterable of key-value pairs. It adds the new key-value pairs to the dictionary and updates the values of existing keys if they are found."
   ]
  },
  {
   "cell_type": "code",
   "execution_count": 37,
   "metadata": {},
   "outputs": [
    {
     "name": "stdout",
     "output_type": "stream",
     "text": [
      "{'a': 1, 'b': 2, 'c': 3, 'd': 4}\n"
     ]
    }
   ],
   "source": [
    "my_dict = {'a': 1, 'b': 2}\n",
    "new_dict = {'c': 3, 'd': 4}\n",
    "my_dict.update(new_dict)\n",
    "pprint.pprint(my_dict)"
   ]
  },
  {
   "cell_type": "markdown",
   "metadata": {},
   "source": [
    "## To convert data in a frame (like table)"
   ]
  },
  {
   "cell_type": "code",
   "execution_count": 4,
   "metadata": {},
   "outputs": [
    {
     "data": {
      "text/html": [
       "<div>\n",
       "<style scoped>\n",
       "    .dataframe tbody tr th:only-of-type {\n",
       "        vertical-align: middle;\n",
       "    }\n",
       "\n",
       "    .dataframe tbody tr th {\n",
       "        vertical-align: top;\n",
       "    }\n",
       "\n",
       "    .dataframe thead th {\n",
       "        text-align: right;\n",
       "    }\n",
       "</style>\n",
       "<table border=\"1\" class=\"dataframe\">\n",
       "  <thead>\n",
       "    <tr style=\"text-align: right;\">\n",
       "      <th></th>\n",
       "      <th>Roll No.</th>\n",
       "      <th>Name</th>\n",
       "      <th>Education</th>\n",
       "    </tr>\n",
       "  </thead>\n",
       "  <tbody>\n",
       "    <tr>\n",
       "      <th>0</th>\n",
       "      <td>1</td>\n",
       "      <td>Sir Zai</td>\n",
       "      <td>Master</td>\n",
       "    </tr>\n",
       "    <tr>\n",
       "      <th>1</th>\n",
       "      <td>2</td>\n",
       "      <td>Sir Inam</td>\n",
       "      <td>Master</td>\n",
       "    </tr>\n",
       "    <tr>\n",
       "      <th>2</th>\n",
       "      <td>3</td>\n",
       "      <td>Sir Qasim</td>\n",
       "      <td>Master</td>\n",
       "    </tr>\n",
       "    <tr>\n",
       "      <th>3</th>\n",
       "      <td>4</td>\n",
       "      <td>Sir Zeeshan</td>\n",
       "      <td>Master</td>\n",
       "    </tr>\n",
       "  </tbody>\n",
       "</table>\n",
       "</div>"
      ],
      "text/plain": [
       "   Roll No.         Name Education\n",
       "0         1      Sir Zai    Master\n",
       "1         2     Sir Inam    Master\n",
       "2         3    Sir Qasim    Master\n",
       "3         4  Sir Zeeshan    Master"
      ]
     },
     "execution_count": 4,
     "metadata": {},
     "output_type": "execute_result"
    }
   ],
   "source": [
    "from typing import Any , Dict\n",
    "import pandas as pd\n",
    "\n",
    "students_data : Dict[str, list[Any]] = {\n",
    "    \"Roll No.\" :    [1,2,3,4],\n",
    "    \"Name\"     :    [\"Sir Zai\", \"Sir Inam\", \"Sir Qasim\", \"Sir Zeeshan\"],\n",
    "    \"Education\":    [\"Master\",\"Master\",\"Master\",\"Master\",],\n",
    "    \n",
    "}\n",
    "\n",
    "df : pd.DataFrame = pd.DataFrame(students_data)\n",
    "df"
   ]
  },
  {
   "cell_type": "code",
   "execution_count": 9,
   "metadata": {},
   "outputs": [
    {
     "name": "stdout",
     "output_type": "stream",
     "text": [
      "Jen's favorite language is Python.\n",
      "Sarah's favorite language is C.\n",
      "Edward's favorite language is Ruby.\n",
      "Phil's favorite language is Python.\n"
     ]
    }
   ],
   "source": [
    "from typing import Union, Dict\n",
    "\n",
    "names = Union[str,int]\n",
    "languages = Union[str,int]\n",
    "\n",
    "develeper : Dict [names,languages] = {\n",
    "        'jen': 'python',\n",
    "        'sarah': 'c',\n",
    "        'edward': 'ruby',\n",
    "        'phil': 'python',\n",
    "}\n",
    "for name, language in develeper.items():\n",
    "    print(name.title() + \"'s favorite language is \" + language.title() + \".\")\n",
    "\n",
    "\n"
   ]
  },
  {
   "cell_type": "code",
   "execution_count": 14,
   "metadata": {},
   "outputs": [
    {
     "name": "stdout",
     "output_type": "stream",
     "text": [
      "{'color': 'green', 'points': 5}\n",
      "{'color': 'yellow', 'points': 10}\n",
      "{'color': 'red', 'points': 15}\n",
      "Total number of aliens: 3\n"
     ]
    }
   ],
   "source": [
    "alien_0 = {'color': 'green', 'points': 5}\n",
    "alien_1 = {'color': 'yellow', 'points': 10}\n",
    "alien_2 = {'color': 'red', 'points': 15}\n",
    "aliens = [alien_0, alien_1, alien_2]\n",
    "for alien in aliens:\n",
    "    print(alien)\n",
    "    \n",
    "for alien in aliens[0:3]:\n",
    "    if alien['color'] == 'green':\n",
    "        alien['color'] = 'yellow'\n",
    "        alien['speed'] = 'medium'\n",
    "        alien['points'] = 10\n",
    "print(\"Total number of aliens: \" + str(len(aliens)))        \n",
    "        \n",
    "       "
   ]
  },
  {
   "cell_type": "code",
   "execution_count": 21,
   "metadata": {},
   "outputs": [
    {
     "name": "stdout",
     "output_type": "stream",
     "text": [
      "\n",
      " Jen's favorite languages are:\n",
      "\n",
      " Sarah's favorite languages are:\n",
      "\n",
      " Edward's favorite languages are:\n",
      "\n",
      " Phil's favorite languages are:\n",
      "\tPython\n",
      "\tHaskell\n"
     ]
    }
   ],
   "source": [
    "favorite_languages = {\n",
    "        'jen': ['python', 'ruby'],\n",
    "        'sarah': ['c'],\n",
    "        'edward': ['ruby', 'go'],\n",
    "        'phil': ['python', 'haskell'],\n",
    "}\n",
    "for name, languages in favorite_languages.items():\n",
    "    print(f\"\"\"\\n {name.title()}'s favorite languages are:\"\"\")\n",
    "\n",
    "for language in languages:\n",
    "    print(\"\\t\" + language.title())"
   ]
  },
  {
   "cell_type": "code",
   "execution_count": null,
   "metadata": {},
   "outputs": [],
   "source": []
  }
 ],
 "metadata": {
  "kernelspec": {
   "display_name": "python12",
   "language": "python",
   "name": "python3"
  },
  "language_info": {
   "codemirror_mode": {
    "name": "ipython",
    "version": 3
   },
   "file_extension": ".py",
   "mimetype": "text/x-python",
   "name": "python",
   "nbconvert_exporter": "python",
   "pygments_lexer": "ipython3",
   "version": "3.11.5"
  }
 },
 "nbformat": 4,
 "nbformat_minor": 2
}
